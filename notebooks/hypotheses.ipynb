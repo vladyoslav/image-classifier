{
 "cells": [
  {
   "metadata": {},
   "cell_type": "markdown",
   "source": "# Гипотезы и их проверка",
   "id": "e64dfe6f2646b2ad"
  },
  {
   "metadata": {},
   "cell_type": "markdown",
   "source": [
    "## Вспомогательные функции\n",
    "### Импорты"
   ],
   "id": "82c461e4f69d88f6"
  },
  {
   "metadata": {
    "ExecuteTime": {
     "end_time": "2025-01-25T13:35:08.672465Z",
     "start_time": "2025-01-25T13:35:07.872032Z"
    }
   },
   "cell_type": "code",
   "source": [
    "import kagglehub\n",
    "import os\n",
    "import cv2\n",
    "import numpy as np\n",
    "from typing import List\n",
    "from src.features import (\n",
    "    GreenPixelDensity,\n",
    "    StraightAngles,\n",
    "    WhiteAndBluePixelDensity,\n",
    "    ShadowAndTextureContrast,\n",
    "    BlueAndTurquoiseGradientDensity,\n",
    "    TextureSmoothness,\n",
    "    HorizontalLineDensity,\n",
    "    VerticalLineDensity,\n",
    "    AsphaltAndStoneTextureDensity,\n",
    "    OrganicShapesAndCurves, MountainEdgeDensity, WaterReflectionDensity\n",
    ")\n",
    "from scipy.stats import (\n",
    "    ttest_ind,\n",
    "    ks_2samp,\n",
    "    mannwhitneyu, fisher_exact, f_oneway, chi2_contingency, kruskal, spearmanr, levene,\n",
    "pearsonr\n",
    ")"
   ],
   "id": "1de7139a08c93c17",
   "outputs": [],
   "execution_count": 5
  },
  {
   "metadata": {},
   "cell_type": "markdown",
   "source": "### Загрузка датасета",
   "id": "bf56e07c65bd93b6"
  },
  {
   "metadata": {
    "ExecuteTime": {
     "end_time": "2025-01-25T13:35:09.404120Z",
     "start_time": "2025-01-25T13:35:08.677861Z"
    }
   },
   "cell_type": "code",
   "source": [
    "# Download latest version\n",
    "path = os.path.join(kagglehub.dataset_download(\"rahmasleam/intel-image-dataset\"), \"Intel Image Dataset\")\n",
    "\n",
    "print(\"Путь к файлам датасета:\", path)"
   ],
   "id": "52e260d7e9d5ffda",
   "outputs": [
    {
     "name": "stdout",
     "output_type": "stream",
     "text": [
      "Путь к файлам датасета: /Users/vladyoslav/.cache/kagglehub/datasets/rahmasleam/intel-image-dataset/versions/1/Intel Image Dataset\n"
     ]
    }
   ],
   "execution_count": 6
  },
  {
   "metadata": {},
   "cell_type": "markdown",
   "source": "### Функция загрузки изображений из директории",
   "id": "3685193472775ef4"
  },
  {
   "metadata": {
    "ExecuteTime": {
     "end_time": "2025-01-25T13:35:09.411258Z",
     "start_time": "2025-01-25T13:35:09.409106Z"
    }
   },
   "cell_type": "code",
   "source": [
    "def load_images_from_folder(folder: str) -> List[np.ndarray]:\n",
    "    images = []\n",
    "    for filename in os.listdir(folder):\n",
    "        img_path = os.path.join(folder, filename)\n",
    "        img = cv2.imread(img_path)\n",
    "        if img is not None:\n",
    "            images.append(img)\n",
    "    return images"
   ],
   "id": "a0a529d6d5fee2d9",
   "outputs": [],
   "execution_count": 7
  },
  {
   "metadata": {},
   "cell_type": "markdown",
   "source": "### Получение всех категорий из датасета",
   "id": "18c8b4aa5615af84"
  },
  {
   "metadata": {
    "ExecuteTime": {
     "end_time": "2025-01-25T13:35:09.436310Z",
     "start_time": "2025-01-25T13:35:09.434046Z"
    }
   },
   "cell_type": "code",
   "source": [
    "categories = list(filter(lambda category: category != '.DS_Store', os.listdir(path)))\n",
    "\n",
    "print(categories)"
   ],
   "id": "83ddbccf6629cff",
   "outputs": [
    {
     "name": "stdout",
     "output_type": "stream",
     "text": [
      "['forest', 'buildings', 'glacier', 'street', 'mountain', 'sea']\n"
     ]
    }
   ],
   "execution_count": 8
  },
  {
   "metadata": {},
   "cell_type": "markdown",
   "source": "### Функция загрузки изображений всех категорий, кроме указанной",
   "id": "9995381ff9bf7926"
  },
  {
   "metadata": {
    "ExecuteTime": {
     "end_time": "2025-01-25T13:35:09.447808Z",
     "start_time": "2025-01-25T13:35:09.445961Z"
    }
   },
   "cell_type": "code",
   "source": [
    "def load_other_categories_images(exclude_category: str) -> List[np.ndarray]:\n",
    "    images = []\n",
    "\n",
    "    for category in categories:\n",
    "        if category != exclude_category:\n",
    "            category_path = os.path.join(path, category)\n",
    "            images.extend(load_images_from_folder(category_path))\n",
    "\n",
    "    return images"
   ],
   "id": "dafb62af36714857",
   "outputs": [],
   "execution_count": 9
  },
  {
   "metadata": {},
   "cell_type": "markdown",
   "source": "### Функция вывода результатов проверки",
   "id": "86a3906b23285668"
  },
  {
   "metadata": {
    "ExecuteTime": {
     "end_time": "2025-01-25T13:35:09.461432Z",
     "start_time": "2025-01-25T13:35:09.458888Z"
    }
   },
   "cell_type": "code",
   "source": [
    "# Significance level for p-value\n",
    "ALPHA = 0.05\n",
    "\n",
    "def print_test_results(test_results: List[tuple[str, tuple]], success_message: str, failure_message: str) -> None:\n",
    "    for test_name, stat, p_value in test_results:\n",
    "        print(f\"{test_name}:\")\n",
    "        print(f\"Statistic: {stat}\")\n",
    "        print(f\"P-value: {p_value}\\n\")\n",
    "\n",
    "    if all([p_value < ALPHA for _, _, p_value in test_results]):\n",
    "        print(f\"Гипотеза подтверждена: {success_message}\")\n",
    "    else:\n",
    "        print(f\"Гипотеза не подтверждена: {failure_message}\")"
   ],
   "id": "cb63f29acda7d042",
   "outputs": [],
   "execution_count": 10
  },
  {
   "metadata": {},
   "cell_type": "markdown",
   "source": "## Проверка гипотез",
   "id": "72fc154786cd3cde"
  },
  {
   "metadata": {},
   "cell_type": "markdown",
   "source": [
    "### Гипотеза 1: Изображения зданий имеют больше прямых углов и повторяющихся геометрических форм.\n",
    "\n",
    "В данной гипотезе предполагается, что изображения зданий будут содержать больше прямых углов и повторяющихся геометрических форм по сравнению с изображениями других категорий. Это связано с характерной архитектурой зданий, которая часто включает четкие линии и углы, в отличие от природы или других объектов.\n",
    "\n",
    "### Способы проверки:\n",
    "\n",
    "1. **T-тест**:\n",
    "   Этот тест используется для сравнения средних значений признаков (количества прямых углов и повторяющихся форм) между изображениями зданий и изображениями других категорий. Если p-value меньше 0.05, это будет означать, что средние значения для двух групп статистически различны.\n",
    "\n",
    "2. **KS тест (Колмогорова-Смирнова)**:\n",
    "   Этот тест применяется для сравнения распределений признаков между двумя группами изображений. Он проверяет, есть ли статистически значимые различия в распределении признаков между изображениями зданий и изображениями других категорий.\n",
    "\n",
    "3. **Тест Манна-Уитни U**:\n",
    "   Этот тест используется для сравнения медианных значений между двумя группами изображений, чтобы понять, есть ли различия в распределении признаков для зданий и других категорий. Он применим, когда данные не обязательно имеют нормальное распределение."
   ],
   "id": "1c0380901c323b6a"
  },
  {
   "metadata": {
    "ExecuteTime": {
     "end_time": "2025-01-25T13:35:13.534707Z",
     "start_time": "2025-01-25T13:35:09.466635Z"
    }
   },
   "cell_type": "code",
   "source": [
    "# Instantiate the feature extractor\n",
    "feature_extractor = StraightAngles()\n",
    "\n",
    "category = \"buildings\"\n",
    "buildings_path = os.path.join(path, category)\n",
    "\n",
    "# Load images from directories\n",
    "buildings_images = load_images_from_folder(buildings_path)\n",
    "other_images = load_other_categories_images(exclude_category=category)\n",
    "\n",
    "# Calculate features for both sets of images\n",
    "buildings_features = [feature_extractor.calculate(img) for img in buildings_images]\n",
    "other_features = [feature_extractor.calculate(img) for img in other_images]\n",
    "\n",
    "t_stat, p_value_ttest = ttest_ind(buildings_features, other_features, equal_var=False)\n",
    "ks_stat, p_value_ks = ks_2samp(buildings_features, other_features)\n",
    "u_stat, p_value_u = mannwhitneyu(buildings_features, other_features, alternative='two-sided')\n",
    "\n",
    "# Collect test results\n",
    "test_results = [\n",
    "    (\"T-тест\", t_stat, p_value_ttest),\n",
    "    (\"KS тест\", ks_stat, p_value_ks),\n",
    "    (\"Критерий Манна-Уитни U\", u_stat, p_value_u)\n",
    "]\n",
    "\n",
    "# Print results with conclusion\n",
    "print_test_results(\n",
    "    test_results,\n",
    "    success_message=\"Здания имеют больше прямых углов и повторяющихся форм.\",\n",
    "    failure_message=\"Значимой разницы не обнаружено.\"\n",
    ")\n"
   ],
   "id": "c48a425665416726",
   "outputs": [
    {
     "name": "stdout",
     "output_type": "stream",
     "text": [
      "T-тест:\n",
      "Statistic: -16.51083226267886\n",
      "P-value: 1.509928324947185e-50\n",
      "\n",
      "KS тест:\n",
      "Statistic: 0.39113024550213343\n",
      "P-value: 9.967623826567296e-52\n",
      "\n",
      "Критерий Манна-Уитни U:\n",
      "Statistic: 286184.0\n",
      "P-value: 3.596143379458356e-60\n",
      "\n",
      "Гипотеза подтверждена: Здания имеют больше прямых углов и повторяющихся форм.\n"
     ]
    }
   ],
   "execution_count": 11
  },
  {
   "metadata": {},
   "cell_type": "markdown",
   "source": [
    "### Гипотеза 2: Изображения леса имеют больше зелёных пикселей по сравнению с другими категориями.\n",
    "\n",
    "В данной гипотезе предполагается, что изображения леса содержат больше зелёных пикселей, чем изображения других категорий. Это основано на том, что леса обычно характеризуются преобладанием зеленых оттенков, связанных с растительностью. Мы будем измерять долю пикселей с преобладанием зеленого канала, чтобы подтвердить или опровергнуть гипотезу.\n",
    "\n",
    "### Способы проверки:\n",
    "\n",
    "1. **T-тест**:\n",
    "   Этот тест используется для сравнения средних значений доли зелёных пикселей между изображениями леса и изображениями других категорий. Если p-value меньше 0.05, это будет означать, что средние значения для двух групп статистически различны.\n",
    "\n",
    "2. **ANOVA (F-статистика)**: Проверяет, есть ли различия между средними значениями более чем двух групп. Может быть полезным, если бы мы рассматривали несколько категорий помимо леса.\n",
    "\n",
    "3. **Тест Фишера**: Этот тест используется для анализа категориальных данных. Он оценивает связь между двумя переменными, особенно полезен, если данные представляют собой категории (например, если мы категоризируем изображения как \"больше зелёных пикселей\" или \"меньше\")."
   ],
   "id": "8257023b5193891e"
  },
  {
   "metadata": {
    "ExecuteTime": {
     "end_time": "2025-01-25T13:35:14.245689Z",
     "start_time": "2025-01-25T13:35:13.540453Z"
    }
   },
   "cell_type": "code",
   "source": [
    "# Instantiate the feature extractor\n",
    "feature_extractor = GreenPixelDensity()\n",
    "\n",
    "category = \"forest\"\n",
    "forest_path = os.path.join(path, category)\n",
    "\n",
    "# Load images from directories\n",
    "forest_images = load_images_from_folder(forest_path)\n",
    "other_images = load_other_categories_images(exclude_category=category)\n",
    "\n",
    "# Calculate features for both sets of images\n",
    "forest_features = [feature_extractor.calculate(img) for img in forest_images]\n",
    "other_features = [feature_extractor.calculate(img) for img in other_images]\n",
    "\n",
    "# Perform statistical tests\n",
    "t_stat, p_value_ttest = ttest_ind(forest_features, other_features, equal_var=False)  # T-test\n",
    "f_stat, p_value_f = f_oneway(forest_features, other_features)  # ANOVA test\n",
    "\n",
    "# Fisher's Exact Test - This test requires a contingency table\n",
    "# Calculate a contingency table based on a threshold for green pixels\n",
    "threshold = 0.1  # Assume an image with more than 10% green pixels is considered \"high green\"\n",
    "forest_high_green = np.sum(np.array(forest_features) > threshold)\n",
    "forest_low_green = len(forest_features) - forest_high_green\n",
    "other_high_green = np.sum(np.array(other_features) > threshold)\n",
    "other_low_green = len(other_features) - other_high_green\n",
    "\n",
    "# Contingency table: [high green, low green] for both forest and other categories\n",
    "contingency_table = np.array([\n",
    "    [forest_high_green, forest_low_green],\n",
    "    [other_high_green, other_low_green]\n",
    "])\n",
    "\n",
    "# Perform Fisher's Exact Test\n",
    "_, p_value_fisher = fisher_exact(contingency_table)\n",
    "\n",
    "\n",
    "# Collect test results\n",
    "test_results = [\n",
    "    (\"T-тест\", t_stat, p_value_ttest),\n",
    "    (\"ANOVA тест\", f_stat, p_value_f),\n",
    "    (\"Тест Фишера\", None, p_value_fisher)  # Fisher's test doesn't return stat but p-value\n",
    "]\n",
    "\n",
    "# Print results with conclusion\n",
    "print_test_results(\n",
    "    test_results,\n",
    "    success_message=\"Изображения леса имеют больше зелёных пикселей.\",\n",
    "    failure_message=\"Значимой разницы не обнаружено.\"\n",
    ")\n"
   ],
   "id": "5b17a3bf93c78cbb",
   "outputs": [
    {
     "name": "stdout",
     "output_type": "stream",
     "text": [
      "T-тест:\n",
      "Statistic: 19.368645488388232\n",
      "P-value: 3.069541337873858e-62\n",
      "\n",
      "ANOVA тест:\n",
      "Statistic: 1592.193376253794\n",
      "P-value: 1.1997829253042167e-279\n",
      "\n",
      "Тест Фишера:\n",
      "Statistic: None\n",
      "P-value: 5.69541257759806e-142\n",
      "\n",
      "Гипотеза подтверждена: Изображения леса имеют больше зелёных пикселей.\n"
     ]
    }
   ],
   "execution_count": 12
  },
  {
   "metadata": {},
   "cell_type": "markdown",
   "source": [
    "### Гипотеза 3: На изображениях с ледниками преобладают оттенки белого и голубого цветов.\n",
    "\n",
    "В данной гипотезе предполагается, что изображения ледников содержат больше пикселей белого и голубого цветов по сравнению с изображениями других категорий. Это связано с характерными свойствами льда и снега, которые отражают свет, создавая белые области, а преломление света внутри льда формирует голубые оттенки. Мы будем измерять долю пикселей, попадающих в диапазоны белого и голубого цветов, чтобы подтвердить или опровергнуть гипотезу.\n",
    "\n",
    "### Способы проверки:\n",
    "\n",
    "1. **T-тест**:\n",
    "   Используется для сравнения средних значений доли бело-голубых пикселей между изображениями ледников и изображениями других категорий. Если p-value меньше 0.05, это укажет на наличие статистически значимых различий.\n",
    "\n",
    "2. **ANOVA (F-статистика)**:\n",
    "   Применяется для проверки различий между средними значениями доли бело-голубых пикселей в нескольких категориях изображений. Этот метод позволяет выявить, есть ли значимые различия между группами.\n",
    "\n",
    "3. **Тест Манна-Уитни U**:\n",
    "   Непараметрический тест для оценки различий в распределении доли бело-голубых пикселей между двумя группами изображений, что особенно полезно при наличии асимметричных распределений."
   ],
   "id": "cb1aef9d9dd7fad7"
  },
  {
   "metadata": {
    "ExecuteTime": {
     "end_time": "2025-01-25T13:35:14.976124Z",
     "start_time": "2025-01-25T13:35:14.257057Z"
    }
   },
   "cell_type": "code",
   "source": [
    "# Instantiate the feature extractor\n",
    "feature_extractor = WhiteAndBluePixelDensity()\n",
    "\n",
    "category = \"glacier\"\n",
    "glacier_path = os.path.join(path, category)\n",
    "\n",
    "# Load images from directories\n",
    "glacier_images = load_images_from_folder(glacier_path)\n",
    "other_images = load_other_categories_images(exclude_category=category)\n",
    "\n",
    "# Calculate features for both sets of images\n",
    "glacier_features = [feature_extractor.calculate(img) for img in glacier_images]\n",
    "other_features = [feature_extractor.calculate(img) for img in other_images]\n",
    "\n",
    "# Perform statistical tests\n",
    "t_stat, p_value_ttest = ttest_ind(glacier_features, other_features, equal_var=False)\n",
    "f_stat, p_value_anova = f_oneway(glacier_features, other_features)\n",
    "u_stat, p_value_u = mannwhitneyu(glacier_features, other_features, alternative='two-sided')\n",
    "\n",
    "# Collect test results\n",
    "test_results = [\n",
    "    (\"T-test\", t_stat, p_value_ttest),\n",
    "    (\"ANOVA\", f_stat, p_value_anova),\n",
    "    (\"Mann-Whitney U\", u_stat, p_value_u)\n",
    "]\n",
    "\n",
    "# Print results with conclusion\n",
    "print_test_results(\n",
    "    test_results,\n",
    "    success_message=\"Изображения с ледниками имеют больше белых и голубых оттенков.\",\n",
    "    failure_message=\"Значимой разницы не обнаружено.\"\n",
    ")\n"
   ],
   "id": "4b61de3b18967fb5",
   "outputs": [
    {
     "name": "stdout",
     "output_type": "stream",
     "text": [
      "T-test:\n",
      "Statistic: 24.952377351597207\n",
      "P-value: 6.13522424199588e-103\n",
      "\n",
      "ANOVA:\n",
      "Statistic: 611.2198938855358\n",
      "P-value: 5.706889749371772e-123\n",
      "\n",
      "Mann-Whitney U:\n",
      "Statistic: 1072602.5\n",
      "P-value: 8.727437017509387e-103\n",
      "\n",
      "Гипотеза подтверждена: Изображения с ледниками имеют больше белых и голубых оттенков.\n"
     ]
    }
   ],
   "execution_count": 13
  },
  {
   "metadata": {},
   "cell_type": "markdown",
   "source": [
    "### Гипотеза 4: Горы чаще всего содержат больше теней и текстур с высокими контрастами.\n",
    "\n",
    "В данной гипотезе предполагается, что изображения гор характеризуются большей степенью теней и текстур с высокими контрастами, чем изображения других категорий. Это связано с природой горного ландшафта, где присутствуют резкие перепады высот, сложные текстуры и игра света и тени. Для проверки гипотезы будет рассчитан показатель контраста текстур и теней с использованием преобразования Лапласа.\n",
    "\n",
    "### Способы проверки:\n",
    "\n",
    "1. **Тест Колмогорова-Смирнова**:\n",
    "   Используется для проверки сходства распределений уровня контраста между изображениями гор и изображениями других категорий. Если p-value меньше 0.05, распределения будут считаться различными.\n",
    "\n",
    "2. **Критерий Хи-квадрат**:\n",
    "   Применяется для проверки связи между категорией изображения (горы или другие категории) и наличием высокого уровня контраста. Это особенно полезно при анализе категориальных данных.\n",
    "\n",
    "3. **ANOVA (F-статистика)**:\n",
    "   Проверяет различия между средними уровнями контраста в нескольких категориях изображений."
   ],
   "id": "f615806757fc6be1"
  },
  {
   "metadata": {
    "ExecuteTime": {
     "end_time": "2025-01-25T13:35:15.719913Z",
     "start_time": "2025-01-25T13:35:14.984640Z"
    }
   },
   "cell_type": "code",
   "source": [
    "# Instantiate the feature extractor\n",
    "feature_extractor = ShadowAndTextureContrast()\n",
    "\n",
    "category = \"mountain\"\n",
    "mountain_path = os.path.join(path, category)\n",
    "\n",
    "# Load images from directories\n",
    "mountain_images = load_images_from_folder(mountain_path)\n",
    "other_images = load_other_categories_images(exclude_category=category)\n",
    "\n",
    "# Calculate features for both sets of images\n",
    "mountain_features = [feature_extractor.calculate(img) for img in mountain_images]\n",
    "other_features = [feature_extractor.calculate(img) for img in other_images]\n",
    "\n",
    "# Perform statistical tests\n",
    "ks_stat, p_value_ks = ks_2samp(mountain_features, other_features)\n",
    "chi2_table = [\n",
    "    [\n",
    "        sum(1 for x in mountain_features if x > 0.5),\n",
    "        sum(1 for x in mountain_features if x <= 0.5)\n",
    "    ],\n",
    "    [\n",
    "        sum(1 for x in other_features if x > 0.5),\n",
    "        sum(1 for x in other_features if x <= 0.5)\n",
    "    ]\n",
    "]\n",
    "\n",
    "chi2_stat, p_value_chi2, _, _ = chi2_contingency(chi2_table)\n",
    "f_stat, p_value_anova = f_oneway(mountain_features, other_features)\n",
    "\n",
    "# Collect test results\n",
    "test_results = [\n",
    "    (\"Kolmogorov-Smirnov Test\", ks_stat, p_value_ks),\n",
    "    (\"Chi-Square Test\", chi2_stat, p_value_chi2),\n",
    "    (\"ANOVA\", f_stat, p_value_anova)\n",
    "]\n",
    "\n",
    "# Print results with conclusion\n",
    "print_test_results(\n",
    "    test_results,\n",
    "    success_message=\"Изображения гор имеют больше теней и контрастов.\",\n",
    "    failure_message=\"Значимой разницы не обнаружено.\"\n",
    ")\n"
   ],
   "id": "a68b050f92e5dccf",
   "outputs": [
    {
     "name": "stdout",
     "output_type": "stream",
     "text": [
      "Kolmogorov-Smirnov Test:\n",
      "Statistic: 0.22637806637806637\n",
      "P-value: 5.862583276234776e-20\n",
      "\n",
      "Chi-Square Test:\n",
      "Statistic: 34.59137275361692\n",
      "P-value: 4.067048031615426e-09\n",
      "\n",
      "ANOVA:\n",
      "Statistic: 129.50293413130308\n",
      "P-value: 2.093525245601298e-29\n",
      "\n",
      "Гипотеза подтверждена: Изображения гор имеют больше теней и контрастов.\n"
     ]
    }
   ],
   "execution_count": 14
  },
  {
   "metadata": {},
   "cell_type": "markdown",
   "source": [
    "### Гипотеза 5: На изображениях моря преобладают синие и бирюзовые цвета с плавными градиентами.\n",
    "\n",
    "В данной гипотезе предполагается, что изображения моря имеют преобладание синих и бирюзовых оттенков с плавными градиентами. Это основано на том, что изображения морского ландшафта часто содержат такие цвета, как синий и бирюзовый, а также плавные переходы между цветами воды и неба. Мы будем измерять плотность этих оттенков и оценивать плавность градиентов, чтобы подтвердить или опровергнуть гипотезу.\n",
    "\n",
    "### Способы проверки:\n",
    "\n",
    "1. **Mann-Whitney U**:\n",
    "   Этот тест используется для оценки различий между двумя независимыми выборками, в данном случае между изображениями моря и изображениями других категорий. Если p-value меньше 0.05, это будет означать, что данные группы статистически различны.\n",
    "\n",
    "2. **Kruskal-Wallis H-test**:\n",
    "   Этот тест проверяет, есть ли статистически значимые различия между более чем двумя независимыми группами. Мы используем его для оценки различий между изображениями моря и других категорий по плотности синих и бирюзовых оттенков.\n",
    "\n",
    "3. **T-тест**:\n",
    "   Этот тест применяется для сравнения средних значений между двумя группами. Мы проверим среднюю плотность оттенков синего и бирюзового цвета между изображениями моря и других категорий."
   ],
   "id": "982db5aca7a03d9"
  },
  {
   "metadata": {
    "ExecuteTime": {
     "end_time": "2025-01-25T13:35:16.700818Z",
     "start_time": "2025-01-25T13:35:15.723126Z"
    }
   },
   "cell_type": "code",
   "source": [
    "# Instantiate the feature extractor\n",
    "feature_extractor = BlueAndTurquoiseGradientDensity()\n",
    "\n",
    "category = \"street\"\n",
    "sea_path = os.path.join(path, category)\n",
    "\n",
    "# Load images from directories\n",
    "sea_images = load_images_from_folder(sea_path)\n",
    "other_images = load_other_categories_images(exclude_category=category)\n",
    "\n",
    "# Calculate features for both sets of images\n",
    "sea_features = [feature_extractor.calculate(img) for img in sea_images]\n",
    "other_features = [feature_extractor.calculate(img) for img in other_images]\n",
    "\n",
    "# Perform statistical tests\n",
    "t_stat, p_value_ttest = ttest_ind(sea_features, other_features, equal_var=False)\n",
    "h_stat, p_value_kruskal = kruskal(sea_features, other_features)\n",
    "u_stat, p_value_u = mannwhitneyu(sea_features, other_features, alternative='two-sided')\n",
    "\n",
    "# Collect test results\n",
    "test_results = [\n",
    "    (\"T-test\", t_stat, p_value_ttest),\n",
    "    (\"Kruskal-Wallis\", h_stat, p_value_kruskal),\n",
    "    (\"Mann-Whitney U\", u_stat, p_value_u)\n",
    "]\n",
    "\n",
    "# Print results with conclusion\n",
    "print_test_results(\n",
    "    test_results,\n",
    "    success_message=\"Изображения моря имеют больше синих и бирюзовых оттенков с плавными градиентами.\",\n",
    "    failure_message=\"Значимой разницы не обнаружено.\"\n",
    ")"
   ],
   "id": "ce4735686030348c",
   "outputs": [
    {
     "name": "stdout",
     "output_type": "stream",
     "text": [
      "T-test:\n",
      "Statistic: -19.343418163532057\n",
      "P-value: 2.1572479864574292e-78\n",
      "\n",
      "Kruskal-Wallis:\n",
      "Statistic: 177.41395622569124\n",
      "P-value: 1.778609986343315e-40\n",
      "\n",
      "Mann-Whitney U:\n",
      "Statistic: 390696.0\n",
      "P-value: 1.7792843689068248e-40\n",
      "\n",
      "Гипотеза подтверждена: Изображения моря имеют больше синих и бирюзовых оттенков с плавными градиентами.\n"
     ]
    }
   ],
   "execution_count": 15
  },
  {
   "metadata": {},
   "cell_type": "markdown",
   "source": [
    "### Гипотеза 6: На изображениях ледников текстуры преимущественно гладкие и однородные.\n",
    "\n",
    "Данная гипотеза предполагает, что изображения ледников будут характеризоваться гладкими и однородными текстурами, что связано с особенностями ледников, где поверхности часто представляют собой равномерно освещенные и монотонные области без ярко выраженных деталей или изменений. Мы будем измерять стандартное отклонение интенсивности пикселей в изображении, чтобы подтвердить или опровергнуть гипотезу.\n",
    "\n",
    "### Способы проверки:\n",
    "\n",
    "1. **Mann-Whitney U**: Этот тест используется для сравнения двух независимых выборок. Он оценивает, отличаются ли распределения значений между двумя группами (например, ледники и другие изображения). Если p-value меньше 0.05, это указывает на статистически значимые различия между группами.\n",
    "\n",
    "2. **Spearman's rank correlation**: Оценивает степень монотонной зависимости между двумя переменными. Этот критерий помогает понять, существует ли зависимость между гладкостью текстуры и наличием ледников.\n",
    "\n",
    "3. **Kruskal-Wallis**: Этот тест является аналогом ANOVA, но используется для проверки различий между несколькими независимыми группами. Подходит, если мы хотим сравнить более двух категорий, например, ледники и другие природные объекты."
   ],
   "id": "90182af32e574526"
  },
  {
   "metadata": {
    "ExecuteTime": {
     "end_time": "2025-01-25T13:35:17.370025Z",
     "start_time": "2025-01-25T13:35:16.708499Z"
    }
   },
   "cell_type": "code",
   "source": [
    "# Instantiate the feature extractor\n",
    "feature_extractor = TextureSmoothness()\n",
    "\n",
    "category = \"glacier\"\n",
    "glacier_path = os.path.join(path, category)\n",
    "\n",
    "# Load images from directories\n",
    "glacier_images = load_images_from_folder(glacier_path)\n",
    "other_images = load_other_categories_images(exclude_category=category)\n",
    "\n",
    "# Calculate features for both sets of images\n",
    "glacier_features = [feature_extractor.calculate(img) for img in glacier_images]\n",
    "other_features = [feature_extractor.calculate(img) for img in other_images]\n",
    "\n",
    "# Perform statistical tests\n",
    "mannwhitney_stat, p_value_mannwhitney = mannwhitneyu(glacier_features, other_features, alternative='two-sided')\n",
    "spearman_stat, p_value_spearman = spearmanr(glacier_features, other_features[:len(glacier_features)])\n",
    "kruskal_stat, p_value_kruskal = kruskal(glacier_features, other_features)\n",
    "\n",
    "# Collect test results\n",
    "test_results = [\n",
    "    (\"Mann-Whitney U\", mannwhitney_stat, p_value_mannwhitney),\n",
    "    (\"Spearman's rank correlation\", spearman_stat, p_value_spearman),\n",
    "    (\"Kruskal-Wallis\", kruskal_stat, p_value_kruskal)\n",
    "]\n",
    "\n",
    "# Print results with conclusion\n",
    "print_test_results(\n",
    "    test_results,\n",
    "    success_message=\"Изображения ледников имеют гладкие и однородные текстуры.\",\n",
    "    failure_message=\"Значимой разницы не обнаружено.\"\n",
    ")\n"
   ],
   "id": "aeeef0cd32b2b8a6",
   "outputs": [
    {
     "name": "stdout",
     "output_type": "stream",
     "text": [
      "Mann-Whitney U:\n",
      "Statistic: 603246.0\n",
      "P-value: 6.68466685161619e-05\n",
      "\n",
      "Spearman's rank correlation:\n",
      "Statistic: 0.058744088763420826\n",
      "P-value: 0.1677440836512504\n",
      "\n",
      "Kruskal-Wallis:\n",
      "Statistic: 15.898291859153687\n",
      "P-value: 6.68390135819863e-05\n",
      "\n",
      "Гипотеза не подтверждена: Значимой разницы не обнаружено.\n"
     ]
    }
   ],
   "execution_count": 16
  },
  {
   "metadata": {},
   "cell_type": "markdown",
   "source": [
    "### Гипотеза 7: Морские изображения часто содержат горизонтальные линии, связанные с горизонтом\n",
    "\n",
    "Данная гипотеза предполагает, что на изображениях моря часто встречаются горизонтальные линии, такие как линия горизонта. Мы будем измерять плотность горизонтальных линий на изображениях, чтобы проверить, поддерживает ли гипотеза предположение о наличии этих линий.\n",
    "\n",
    "### Способы проверки:\n",
    "\n",
    "1. **T-test**: Используется для проверки гипотезы о том, что изображения моря имеют среднюю плотность горизонтальных линий, отличную от других категорий. Если p-value меньше 0.05, это будет означать значимые различия между группами.\n",
    "\n",
    "2. **Levene's Test**: Этот тест проверяет равенство дисперсий плотности горизонтальных линий между изображениями моря и других категорий. Если p-value меньше 0.05, это указывает на статистически значимые различия в дисперсиях.\n",
    "\n",
    "3. **Chi-square Test**: Этот тест применим для проверки, есть ли зависимость между наличием горизонтальных линий и категорией изображения. Если p-value меньше 0.05, гипотеза будет подтверждена."
   ],
   "id": "cd93abcd4f94f384"
  },
  {
   "metadata": {
    "ExecuteTime": {
     "end_time": "2025-01-25T13:35:20.371478Z",
     "start_time": "2025-01-25T13:35:17.377673Z"
    }
   },
   "cell_type": "code",
   "source": [
    "# Initialize the feature extractor\n",
    "feature_extractor = HorizontalLineDensity()\n",
    "\n",
    "category = \"sea\"\n",
    "sea_path = os.path.join(path, category)\n",
    "\n",
    "# Load images from directories\n",
    "sea_images = load_images_from_folder(sea_path)\n",
    "other_images = load_other_categories_images(exclude_category=category)\n",
    "\n",
    "# Calculate features for both sets of images\n",
    "sea_features = [feature_extractor.calculate(img) for img in sea_images]\n",
    "other_features = [feature_extractor.calculate(img) for img in other_images]\n",
    "\n",
    "# Split the data into bins for histogram\n",
    "bins = 10\n",
    "hist_sea, bin_edges_sea = np.histogram(sea_features, bins=bins)\n",
    "hist_other, bin_edges_other = np.histogram(other_features, bins=bins)\n",
    "\n",
    "# Combine the histograms into a frequency table\n",
    "frequency_table = np.array([hist_sea, hist_other])\n",
    "\n",
    "# Check: if there are any zeros in the table, replace them with the minimum value (e.g., 1)\n",
    "frequency_table[frequency_table == 0] = 1\n",
    "\n",
    "# Perform statistical tests\n",
    "t_stat, p_value_ttest = ttest_ind(sea_features, other_features, equal_var=False)\n",
    "levene_stat, p_value_levene = levene(sea_features, other_features)\n",
    "chi2_stat, p_value_chi2, dof, expected = chi2_contingency(frequency_table)\n",
    "\n",
    "# Collect the test results\n",
    "test_results = [\n",
    "    (\"T-test\", t_stat, p_value_ttest),\n",
    "    (\"Levene's Test\", levene_stat, p_value_levene),\n",
    "    (\"Chi-square Test\", chi2_stat, p_value_chi2)\n",
    "]\n",
    "\n",
    "# Print results with conclusion in Russian\n",
    "print_test_results(\n",
    "    test_results,\n",
    "    success_message=\"Изображения моря содержат больше горизонтальных линий, связанных с горизонтом.\",\n",
    "    failure_message=\"Значимой разницы не обнаружено.\"\n",
    ")\n"
   ],
   "id": "2db942de23e89986",
   "outputs": [
    {
     "name": "stdout",
     "output_type": "stream",
     "text": [
      "T-test:\n",
      "Statistic: -5.205812628417344\n",
      "P-value: 2.1510515426320074e-07\n",
      "\n",
      "Levene's Test:\n",
      "Statistic: 10.158613317880024\n",
      "P-value: 0.001451058177210804\n",
      "\n",
      "Chi-square Test:\n",
      "Statistic: 13.456460444442678\n",
      "P-value: 0.14301602082841786\n",
      "\n",
      "Гипотеза не подтверждена: Значимой разницы не обнаружено.\n"
     ]
    }
   ],
   "execution_count": 17
  },
  {
   "metadata": {},
   "cell_type": "markdown",
   "source": [
    "### Гипотеза 8: Городские сцены содержат больше вертикальных линий и углов, связанных со зданиями и инфраструктурой.\n",
    "\n",
    "В данной гипотезе предполагается, что изображения городских сцен содержат больше вертикальных линий, чем изображения других типов. Вертикальные линии часто ассоциируются с городской архитектурой, зданиями и инфраструктурой. Мы будем измерять плотность вертикальных линий, чтобы подтвердить или опровергнуть гипотезу.\n",
    "\n",
    "### Способы проверки:\n",
    "\n",
    "1. **T-тест**:\n",
    "   Этот тест используется для сравнения средних значений плотности вертикальных линий между изображениями городской сцены и изображениями других категорий. Если p-value меньше 0.05, это будет означать, что средние значения для двух групп статистически различны.\n",
    "\n",
    "2. **Критерий Манна-Уитни (Mann-Whitney U)**:\n",
    "   Применяется для проверки различий в распределении плотности вертикальных линий между изображениями городской сцены и изображениями других категорий, особенно если данные не следуют нормальному распределению.\n",
    "\n",
    "3. **Тест Крускала (Kruskal-Wallis)**:\n",
    "   Этот тест используется для проверки различий в распределении плотности вертикальных линий между несколькими категориями изображений. Он поможет определить, есть ли различия в плотности вертикальных линий между изображениями городской сцены и другими типами изображений.\n"
   ],
   "id": "a9fb8d12d135a30e"
  },
  {
   "metadata": {
    "ExecuteTime": {
     "end_time": "2025-01-25T13:35:24.226525Z",
     "start_time": "2025-01-25T13:35:20.379380Z"
    }
   },
   "cell_type": "code",
   "source": [
    "# Instantiate the feature extractor\n",
    "feature_extractor = VerticalLineDensity()\n",
    "\n",
    "category = \"street\"\n",
    "city_path = os.path.join(path, category)\n",
    "\n",
    "# Load images from directories\n",
    "city_images = load_images_from_folder(city_path)\n",
    "other_images = load_other_categories_images(exclude_category=category)\n",
    "\n",
    "# Calculate features for both sets of images\n",
    "city_features = [feature_extractor.calculate(img) for img in city_images]\n",
    "other_features = [feature_extractor.calculate(img) for img in other_images]\n",
    "\n",
    "# Perform statistical tests\n",
    "t_stat, p_value_ttest = ttest_ind(city_features, other_features, equal_var=False)\n",
    "u_stat, p_value_u = mannwhitneyu(city_features, other_features, alternative='two-sided')\n",
    "h_stat, p_value_kruskal = kruskal(city_features, other_features)\n",
    "\n",
    "# Collect test results\n",
    "test_results = [\n",
    "    (\"T-test\", t_stat, p_value_ttest),\n",
    "    (\"Mann-Whitney U\", u_stat, p_value_u),\n",
    "    (\"Kruskal-Wallis\", h_stat, p_value_kruskal)\n",
    "]\n",
    "\n",
    "# Print results with conclusion\n",
    "print_test_results(\n",
    "    test_results,\n",
    "    success_message=\"Изображения городской сцены содержат больше вертикальных линий.\",\n",
    "    failure_message=\"Значимой разницы не обнаружено.\"\n",
    ")\n"
   ],
   "id": "526fc9accc36a6d6",
   "outputs": [
    {
     "name": "stdout",
     "output_type": "stream",
     "text": [
      "T-test:\n",
      "Statistic: -3.959298621113764\n",
      "P-value: 8.121208221938546e-05\n",
      "\n",
      "Mann-Whitney U:\n",
      "Statistic: 596987.5\n",
      "P-value: 0.004713037134223194\n",
      "\n",
      "Kruskal-Wallis:\n",
      "Statistic: 7.986662402168019\n",
      "P-value: 0.004712320556597948\n",
      "\n",
      "Гипотеза подтверждена: Изображения городской сцены содержат больше вертикальных линий.\n"
     ]
    }
   ],
   "execution_count": 18
  },
  {
   "metadata": {},
   "cell_type": "markdown",
   "source": "",
   "id": "23632a9d054e5744"
  },
  {
   "metadata": {},
   "cell_type": "markdown",
   "source": [
    "### Гипотеза 9: Уличные сцены содержат больше текстур асфальта и камня, чем природные категории.\n",
    "\n",
    "Данная гипотеза предполагает, что уличные сцены будут содержать больше текстур, характерных для асфальта и камня, по сравнению с природными категориями. Это основано на том, что асфальт и камень имеют характерные текстурные паттерны, которые можно обнаружить в изображениях городских сцен. Мы будем измерять плотность текстур в изображениях уличных сцен и других категорий, чтобы подтвердить или опровергнуть гипотезу.\n",
    "\n",
    "### Способы проверки:\n",
    "\n",
    "1. **Mann-Whitney U**:\n",
    "   Этот тест используется для проверки различий в распределении плотности текстур между уличными сценами и природными изображениями, если данные не имеют нормального распределения.\n",
    "\n",
    "2. **Spearman's rank correlation**: Проверяет, существует ли монотонная зависимость между плотностью текстур и категориальной переменной, которая различает уличные и природные сцены.\n",
    "\n",
    "3. **Kruskal-Wallis**: Этот тест используется для проверки различий в плотности текстур между более чем двумя категориями, если в наборе данных есть несколько категорий помимо уличных сцен.\n"
   ],
   "id": "d71807512c74a8e8"
  },
  {
   "metadata": {
    "ExecuteTime": {
     "end_time": "2025-01-25T13:35:24.839250Z",
     "start_time": "2025-01-25T13:35:24.235278Z"
    }
   },
   "cell_type": "code",
   "source": [
    "# Instantiate the feature extractor\n",
    "feature_extractor = AsphaltAndStoneTextureDensity()\n",
    "\n",
    "category = \"street\"\n",
    "street_path = os.path.join(path, category)\n",
    "\n",
    "# Load images from directories\n",
    "street_images = load_images_from_folder(street_path)\n",
    "other_images = load_other_categories_images(exclude_category=category)\n",
    "\n",
    "# Ensure both categories have the same number of images for comparison\n",
    "min_length = min(len(street_images), len(other_images))\n",
    "street_images = street_images[:min_length]\n",
    "other_images = other_images[:min_length]\n",
    "\n",
    "# Calculate features for both sets of images\n",
    "street_features = [feature_extractor.calculate(img) for img in street_images]\n",
    "other_features = [feature_extractor.calculate(img) for img in other_images]\n",
    "\n",
    "# Perform statistical tests\n",
    "t_stat, p_value_ttest = ttest_ind(street_features, other_features, equal_var=False)\n",
    "pearson_stat, p_value_pearson = pearsonr(street_features, other_features)\n",
    "\n",
    "# Prepare the data for chi2_contingency\n",
    "bin_count = 10  # Choose the number of bins based on the distribution of feature values\n",
    "street_bins = np.histogram(street_features, bins=bin_count)[0]\n",
    "other_bins = np.histogram(other_features, bins=bin_count)[0]\n",
    "\n",
    "# Create the contingency table\n",
    "contingency_table = np.array([street_bins, other_bins])\n",
    "\n",
    "# Perform Chi-Square Test\n",
    "chi2_stat, p_value_chi2, _, _ = chi2_contingency(contingency_table)\n",
    "\n",
    "# Collect test results\n",
    "test_results = [\n",
    "    (\"T-test\", t_stat, p_value_ttest),\n",
    "    (\"Pearson's correlation\", pearson_stat, p_value_pearson),\n",
    "    (\"Chi-square Test\", chi2_stat, p_value_chi2)\n",
    "]\n",
    "\n",
    "# Print results with conclusion\n",
    "print_test_results(\n",
    "    test_results,\n",
    "    success_message=\"Уличные сцены содержат больше текстур асфальта и камня, чем природные категории.\",\n",
    "    failure_message=\"Значимой разницы не обнаружено.\"\n",
    ")"
   ],
   "id": "79c77dc3e50c4fac",
   "outputs": [
    {
     "name": "stdout",
     "output_type": "stream",
     "text": [
      "T-test:\n",
      "Statistic: -23.367171193616773\n",
      "P-value: 1.3624125141205788e-96\n",
      "\n",
      "Pearson's correlation:\n",
      "Statistic: -0.021607481997517435\n",
      "P-value: 0.6294584976101333\n",
      "\n",
      "Chi-square Test:\n",
      "Statistic: 172.15950643944234\n",
      "P-value: 2.1895631497677404e-32\n",
      "\n",
      "Гипотеза не подтверждена: Значимой разницы не обнаружено.\n"
     ]
    }
   ],
   "execution_count": 19
  },
  {
   "metadata": {},
   "cell_type": "markdown",
   "source": [
    "### Гипотеза 10: Изображения лесов имеют больше органических форм и кривых, что связано с природным ростом деревьев и растений.\n",
    "\n",
    "Данная гипотеза предполагает, что лесные изображения будут содержать больше органических форм и кривых, которые характерны для природного роста деревьев и растений, по сравнению с другими категориями. Это основано на том, что природные формы, такие как ветви деревьев, листья и другие элементы растительности, имеют извилистые, непрямые контуры, в отличие от прямых линий в урбанистических сценах. Мы будем измерять количество кривых и органических контуров в изображениях лесов и других категорий, чтобы подтвердить или опровергнуть гипотезу.\n",
    "\n",
    "### Способы проверки:\n",
    "\n",
    "1. **Kruskal-Wallis**: Этот тест используется для проверки различий в плотности органических форм между лесными изображениями и изображениями других категорий, если данные не имеют нормального распределения.\n",
    "\n",
    "2. **Spearman's rank correlation**: Проверяет, существует ли монотонная зависимость между количеством органических форм и категориальной переменной, которая различает лесные и другие сцены.\n",
    "\n",
    "3. **Levene's test**: Этот тест используется для проверки равенства дисперсий в группах органических форм между лесными изображениями и изображениями других категорий.\n"
   ],
   "id": "447756a7d3e58ec4"
  },
  {
   "metadata": {
    "ExecuteTime": {
     "end_time": "2025-01-25T13:35:26.130603Z",
     "start_time": "2025-01-25T13:35:24.847962Z"
    }
   },
   "cell_type": "code",
   "source": [
    "# Instantiate the feature extractor\n",
    "feature_extractor = OrganicShapesAndCurves()\n",
    "\n",
    "category = \"forest\"\n",
    "forest_path = os.path.join(path, category)\n",
    "\n",
    "# Load images from directories\n",
    "forest_images = load_images_from_folder(forest_path)\n",
    "other_images = load_other_categories_images(exclude_category=category)\n",
    "\n",
    "# Calculate features for both sets of images\n",
    "forest_features = [feature_extractor.calculate(img) for img in forest_images]\n",
    "other_features = [feature_extractor.calculate(img) for img in other_images]\n",
    "\n",
    "# Perform statistical tests\n",
    "kruskal_stat, p_value_kruskal = kruskal(forest_features, other_features)\n",
    "spearman_stat, p_value_spearman = spearmanr(forest_features, other_features[:len(forest_features)])\n",
    "levene_stat, p_value_levene = levene(forest_features, other_features)\n",
    "\n",
    "# Collect test results\n",
    "test_results = [\n",
    "    (\"Kruskal-Wallis\", kruskal_stat, p_value_kruskal),\n",
    "    (\"Spearman's rank correlation\", spearman_stat, p_value_spearman),\n",
    "    (\"Levene's Test\", levene_stat, p_value_levene)\n",
    "]\n",
    "\n",
    "# Print results with conclusion\n",
    "print_test_results(\n",
    "    test_results,\n",
    "    success_message=\"Изображения лесов содержат больше органических форм и кривых.\",\n",
    "    failure_message=\"Значимой разницы не обнаружено.\"\n",
    ")\n"
   ],
   "id": "89fcccd692890c3d",
   "outputs": [
    {
     "name": "stdout",
     "output_type": "stream",
     "text": [
      "Kruskal-Wallis:\n",
      "Statistic: 357.5292978317767\n",
      "P-value: 9.718009709303981e-80\n",
      "\n",
      "Spearman's rank correlation:\n",
      "Statistic: -0.032993423693577086\n",
      "P-value: 0.4736109486342235\n",
      "\n",
      "Levene's Test:\n",
      "Statistic: 45.5928062144448\n",
      "P-value: 1.7412477406752928e-11\n",
      "\n",
      "Гипотеза не подтверждена: Значимой разницы не обнаружено.\n"
     ]
    }
   ],
   "execution_count": 20
  },
  {
   "metadata": {},
   "cell_type": "markdown",
   "source": [
    "### Гипотеза 11: В горных пейзажах часто присутствуют резкие и отчетливые линии, разделяющие небо и скалы.\n",
    "\n",
    "Данная гипотеза предполагает, что изображения горных пейзажей будут содержать четкие границы или линии, разделяющие небо и скалы. Это связано с характерной структурой горных ландшафтов, где небо часто резко отделяется от земли или скалистых объектов. Мы будем измерять плотность границ на изображениях горных пейзажей и других категорий, чтобы подтвердить или опровергнуть гипотезу.\n",
    "\n",
    "### Способы проверки:\n",
    "\n",
    "1. **Mann-Whitney U**:\n",
    "   Этот тест используется для проверки различий в распределении плотности границ между горными пейзажами и другими категориями, если данные не имеют нормального распределения.\n",
    "\n",
    "2. **Spearman's rank correlation**: Проверяет, существует ли монотонная зависимость между плотностью границ и категориальной переменной, которая различает горные пейзажи и другие типы сцен.\n",
    "\n",
    "3. **Kruskal-Wallis**: Этот тест используется для проверки различий в плотности границ между более чем двумя категориями, если в наборе данных есть несколько категорий помимо горных пейзажей."
   ],
   "id": "418e82ee86350f49"
  },
  {
   "metadata": {
    "ExecuteTime": {
     "end_time": "2025-01-25T13:35:26.883920Z",
     "start_time": "2025-01-25T13:35:26.139829Z"
    }
   },
   "cell_type": "code",
   "source": [
    "# Instantiate the feature extractor\n",
    "feature_extractor = MountainEdgeDensity()\n",
    "\n",
    "category = \"mountain\"\n",
    "mountain_path = os.path.join(path, category)\n",
    "\n",
    "# Load images from directories\n",
    "mountain_images = load_images_from_folder(mountain_path)\n",
    "other_images = load_other_categories_images(exclude_category=category)\n",
    "\n",
    "# Calculate features for both sets of images\n",
    "mountain_features = [feature_extractor.calculate(img) for img in mountain_images]\n",
    "other_features = [feature_extractor.calculate(img) for img in other_images]\n",
    "\n",
    "# Perform statistical tests\n",
    "mannwhitney_stat, p_value_mannwhitney = mannwhitneyu(mountain_features, other_features, alternative='two-sided')\n",
    "spearman_stat, p_value_spearman = spearmanr(mountain_features, other_features[:len(mountain_features)])\n",
    "kruskal_stat, p_value_kruskal = kruskal(mountain_features, other_features)\n",
    "\n",
    "# Collect test results\n",
    "test_results = [\n",
    "    (\"Mann-Whitney U\", mannwhitney_stat, p_value_mannwhitney),\n",
    "    (\"Spearman's rank correlation\", spearman_stat, p_value_spearman),\n",
    "    (\"Kruskal-Wallis\", kruskal_stat, p_value_kruskal)\n",
    "]\n",
    "\n",
    "# Print results with conclusion\n",
    "print_test_results(\n",
    "    test_results,\n",
    "    success_message=\"Изображения горных пейзажей содержат больше резких и отчетливых линий, разделяющих небо и скалы.\",\n",
    "    failure_message=\"Значимой разницы не обнаружено.\"\n",
    ")\n"
   ],
   "id": "6c2d81cbf29f10d9",
   "outputs": [
    {
     "name": "stdout",
     "output_type": "stream",
     "text": [
      "Mann-Whitney U:\n",
      "Statistic: 315339.0\n",
      "P-value: 8.518198686928201e-77\n",
      "\n",
      "Spearman's rank correlation:\n",
      "Statistic: -0.0933734984720385\n",
      "P-value: 0.032433150312554\n",
      "\n",
      "Kruskal-Wallis:\n",
      "Statistic: 344.0166815459761\n",
      "P-value: 8.513804900776157e-77\n",
      "\n",
      "Гипотеза подтверждена: Изображения горных пейзажей содержат больше резких и отчетливых линий, разделяющих небо и скалы.\n"
     ]
    }
   ],
   "execution_count": 21
  },
  {
   "metadata": {},
   "cell_type": "markdown",
   "source": [
    "### Гипотеза 12: На изображениях моря часто можно заметить отражения от воды.\n",
    "\n",
    "Данная гипотеза предполагает, что изображения моря будут иметь больше отражений от воды по сравнению с изображениями других категорий. Это основано на том, что вода может отражать объекты на поверхности, создавая характерные визуальные эффекты. Мы будем измерять плотность этих отражений на изображениях морских сцен и других категорий, чтобы подтвердить или опровергнуть гипотезу.\n",
    "\n",
    "### Способы проверки:\n",
    "\n",
    "1. **T-test**:\n",
    "   Этот тест используется для проверки различий в плотности отражений между изображениями моря и других категорий, если данные имеют нормальное распределение.\n",
    "\n",
    "2. **Levene's Test**: Проверяет, есть ли статистически значимые различия в вариативности плотности отражений между морем и другими категориями.\n",
    "\n",
    "3. **Mann-Whitney U Test**: Этот тест используется для проверки различий в плотности отражений между изображениями моря и других категорий, если данные не имеют нормального распределения.\n"
   ],
   "id": "cdaf198cf3728ad2"
  },
  {
   "metadata": {
    "ExecuteTime": {
     "end_time": "2025-01-25T13:35:27.929816Z",
     "start_time": "2025-01-25T13:35:26.892722Z"
    }
   },
   "cell_type": "code",
   "source": [
    "# Instantiate the feature extractor\n",
    "feature_extractor = WaterReflectionDensity()\n",
    "\n",
    "category = \"sea\"\n",
    "sea_path = os.path.join(path, category)\n",
    "\n",
    "# Load images from directories\n",
    "sea_images = load_images_from_folder(sea_path)\n",
    "other_images = load_other_categories_images(exclude_category=category)\n",
    "\n",
    "# Calculate features for both sets of images\n",
    "sea_features = [feature_extractor.calculate(img) for img in sea_images]\n",
    "other_features = [feature_extractor.calculate(img) for img in other_images]\n",
    "\n",
    "# Perform statistical tests\n",
    "t_stat, p_value_ttest = ttest_ind(sea_features, other_features, equal_var=False)\n",
    "levene_stat, p_value_levene = levene(sea_features, other_features)\n",
    "u_stat, p_value_u = mannwhitneyu(sea_features, other_features, alternative='two-sided')\n",
    "\n",
    "# Collect test results\n",
    "test_results = [\n",
    "    (\"T-test\", t_stat, p_value_ttest),\n",
    "    (\"Levene's Test\", levene_stat, p_value_levene),\n",
    "    (\"Mann-Whitney U\", u_stat, p_value_u)\n",
    "]\n",
    "\n",
    "# Print results with conclusion\n",
    "print_test_results(\n",
    "    test_results,\n",
    "    success_message=\"Изображения моря содержат больше отражений от воды.\",\n",
    "    failure_message=\"Значимой разницы не обнаружено.\"\n",
    ")\n"
   ],
   "id": "2bf5a38dd162f787",
   "outputs": [
    {
     "name": "stdout",
     "output_type": "stream",
     "text": [
      "T-test:\n",
      "Statistic: -13.726228281615025\n",
      "P-value: 1.326617300900589e-39\n",
      "\n",
      "Levene's Test:\n",
      "Statistic: 65.49267201607903\n",
      "P-value: 8.388185065709116e-16\n",
      "\n",
      "Mann-Whitney U:\n",
      "Statistic: 443412.5\n",
      "P-value: 6.053186755437936e-27\n",
      "\n",
      "Гипотеза подтверждена: Изображения моря содержат больше отражений от воды.\n"
     ]
    }
   ],
   "execution_count": 22
  },
  {
   "metadata": {},
   "cell_type": "markdown",
   "source": [
    "## Выводы\n",
    "\n",
    "### Подтвержденные гипотезы:\n",
    "- **Гипотеза 1**: Здания имеют больше прямых углов и повторяющихся форм.\n",
    "- **Гипотеза 2**: Изображения леса имеют больше зелёных пикселей.\n",
    "- **Гипотеза 3**: Изображения с ледниками имеют больше белых и голубых оттенков.\n",
    "- **Гипотеза 4**: Изображения гор имеют больше теней и контрастов.\n",
    "- **Гипотеза 5**: Изображения моря имеют больше синих и бирюзовых оттенков с плавными градиентами.\n",
    "- **Гипотеза 8**: Изображения городской сцены содержат больше вертикальных линий.\n",
    "- **Гипотеза 11**: Изображения горных пейзажей содержат больше резких и отчетливых линий, разделяющих небо и скалы.\n",
    "- **Гипотеза 12**: Изображения моря содержат больше отражений от воды.\n",
    "\n",
    "### Опровергнутые гипотезы:\n",
    "- **Гипотеза 6**: Изображения ледников имеют гладкие и однородные текстуры. (Значимой разницы не обнаружено.)\n",
    "- **Гипотеза 7**: Изображения моря содержат больше горизонтальных линий, связанных с горизонтом. (Значимой разницы не обнаружено.)\n",
    "- **Гипотеза 9**: Уличные сцены содержат больше текстур асфальта и камня, чем природные категории. (Значимой разницы не обнаружено.)\n",
    "- **Гипотеза 10**: Изображения лесов содержат больше органических форм и кривых. (Значимой разницы не обнаружено.)\n"
   ],
   "id": "3ffea7ffefc7797c"
  }
 ],
 "metadata": {
  "kernelspec": {
   "name": "python3",
   "language": "python",
   "display_name": "Python 3 (ipykernel)"
  }
 },
 "nbformat": 5,
 "nbformat_minor": 9
}
