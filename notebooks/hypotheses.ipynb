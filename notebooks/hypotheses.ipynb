{
 "cells": [
  {
   "metadata": {},
   "cell_type": "markdown",
   "source": "# Гипотезы и их проверка",
   "id": "45d51608636e008a"
  },
  {
   "metadata": {},
   "cell_type": "markdown",
   "source": [
    "## Вспомогательные функции\n",
    "### Импорты"
   ],
   "id": "82c461e4f69d88f6"
  },
  {
   "metadata": {
    "ExecuteTime": {
     "end_time": "2025-01-26T21:57:20.064324Z",
     "start_time": "2025-01-26T21:57:20.058474Z"
    }
   },
   "cell_type": "code",
   "source": [
    "import kagglehub\n",
    "import os\n",
    "import cv2\n",
    "import numpy as np\n",
    "from typing import List\n",
    "from src.features import (\n",
    "    HorizontalEdgeCount,\n",
    "    VerticalEdgeCount,\n",
    "    CornerCount,\n",
    "    GreenPixelPercentage,\n",
    "    BluePixelPercentage,\n",
    "    ContrastMeasure,\n",
    "    TextureComplexity,\n",
    "    SkyPixelRatio,\n",
    "    ShadowPresence,\n",
    "    SymmetryMeasure,\n",
    "    SharpnessMeasure,\n",
    "    AverageBrightness,\n",
    ")\n",
    "from scipy.stats import (\n",
    "    ttest_ind,\n",
    "    ks_2samp,\n",
    "    mannwhitneyu,\n",
    ")"
   ],
   "id": "1ec5860f23361230",
   "outputs": [],
   "execution_count": 19
  },
  {
   "metadata": {},
   "cell_type": "markdown",
   "source": "### Загрузка датасета",
   "id": "284e6b97ef3c5d2c"
  },
  {
   "metadata": {
    "ExecuteTime": {
     "end_time": "2025-01-26T21:57:20.647772Z",
     "start_time": "2025-01-26T21:57:20.074441Z"
    }
   },
   "cell_type": "code",
   "source": [
    "# Download latest version\n",
    "path = os.path.join(kagglehub.dataset_download(\"rahmasleam/intel-image-dataset\"), \"Intel Image Dataset\")\n",
    "\n",
    "print(\"Путь к файлам датасета:\", path)"
   ],
   "id": "b383f3de121806c8",
   "outputs": [
    {
     "name": "stdout",
     "output_type": "stream",
     "text": [
      "Путь к файлам датасета: C:\\Users\\kadoc\\.cache\\kagglehub\\datasets\\rahmasleam\\intel-image-dataset\\versions\\1\\Intel Image Dataset\n"
     ]
    }
   ],
   "execution_count": 20
  },
  {
   "metadata": {},
   "cell_type": "markdown",
   "source": "### Функция загрузки изображений из директории",
   "id": "6887b20da98f2e4f"
  },
  {
   "metadata": {
    "ExecuteTime": {
     "end_time": "2025-01-26T21:57:20.704678Z",
     "start_time": "2025-01-26T21:57:20.700075Z"
    }
   },
   "cell_type": "code",
   "source": [
    "def load_images_from_folder(folder: str) -> List[np.ndarray]:\n",
    "    images = []\n",
    "    for filename in os.listdir(folder):\n",
    "        img_path = os.path.join(folder, filename)\n",
    "        img = cv2.imread(img_path)\n",
    "        if img is not None:\n",
    "            images.append(img)\n",
    "    return images"
   ],
   "id": "1695cf79e98fdeb0",
   "outputs": [],
   "execution_count": 21
  },
  {
   "metadata": {},
   "cell_type": "markdown",
   "source": "### Объявление категорий",
   "id": "6bf800626518a01e"
  },
  {
   "metadata": {
    "ExecuteTime": {
     "end_time": "2025-01-26T21:57:20.728395Z",
     "start_time": "2025-01-26T21:57:20.722467Z"
    }
   },
   "cell_type": "code",
   "source": "categories = ['forest', 'glacier', 'street', 'sea']",
   "id": "17ca03c300312f07",
   "outputs": [],
   "execution_count": 22
  },
  {
   "metadata": {},
   "cell_type": "markdown",
   "source": "### Функция загрузки изображений всех категорий, кроме указанной",
   "id": "20fe92fddf1b121b"
  },
  {
   "metadata": {
    "ExecuteTime": {
     "end_time": "2025-01-26T21:57:20.750952Z",
     "start_time": "2025-01-26T21:57:20.745984Z"
    }
   },
   "cell_type": "code",
   "source": [
    "def load_other_categories_images(exclude_category: str) -> List[np.ndarray]:\n",
    "    images = []\n",
    "\n",
    "    for category in categories:\n",
    "        if category != exclude_category:\n",
    "            category_path = os.path.join(path, category)\n",
    "            images.extend(load_images_from_folder(category_path))\n",
    "\n",
    "    return images"
   ],
   "id": "7a3285f64a3ca2e0",
   "outputs": [],
   "execution_count": 23
  },
  {
   "metadata": {},
   "cell_type": "markdown",
   "source": "### Функция вывода результатов проверки",
   "id": "af4a4c6537b51335"
  },
  {
   "metadata": {
    "ExecuteTime": {
     "end_time": "2025-01-26T21:57:20.774479Z",
     "start_time": "2025-01-26T21:57:20.766549Z"
    }
   },
   "cell_type": "code",
   "source": [
    "# Significance level for p-value\n",
    "ALPHA = 0.05\n",
    "\n",
    "def print_test_results(test_results: List[tuple[str, tuple]], success_message: str, failure_message: str) -> None:\n",
    "    for test_name, stat, p_value in test_results:\n",
    "        print(f\"{test_name}:\")\n",
    "        print(f\"Statistic: {stat}\")\n",
    "        print(f\"P-value: {p_value}\\n\")\n",
    "\n",
    "    if all([p_value < ALPHA for _, _, p_value in test_results]):\n",
    "        print(f\"Гипотеза подтверждена: {success_message}\")\n",
    "    else:\n",
    "        print(f\"Гипотеза не подтверждена: {failure_message}\")"
   ],
   "id": "9241e9e701b8295e",
   "outputs": [],
   "execution_count": 24
  },
  {
   "metadata": {},
   "cell_type": "markdown",
   "source": "## Проверка гипотез",
   "id": "f98dddafb115e59"
  },
  {
   "metadata": {},
   "cell_type": "markdown",
   "source": [
    "### Гипотеза 1: Улицы имеют больше горизонтальных линий по сравнению с другими категориями.\n",
    "\n",
    "В данной гипотезе предполагается, что изображения улиц содержат больше горизонтальных краев (например, дороги, бордюры и здания), чем изображения других категорий, таких как леса, ледники или моря.\n",
    "\n",
    "### Способы проверки:\n",
    "\n",
    "1. **T-тест**:\n",
    "   Сравнение средних значений количества горизонтальных краев между категориями \"street\" и другими категориями. Если p-value < 0.05, то это будет свидетельствовать о статистически значимой разнице.\n",
    "\n",
    "2. **KS тест (Колмогорова-Смирнова)**:\n",
    "   Сравнение распределений количества горизонтальных краев между категориями. Тест проверяет, различается ли форма распределения данных.\n",
    "\n",
    "3. **Тест Манна-Уитни U**:\n",
    "   Анализ медианных значений количества горизонтальных краев для двух групп, чтобы определить различия, если данные имеют ненормальное распределение."
   ],
   "id": "7b40195c3922f6a9"
  },
  {
   "metadata": {
    "ExecuteTime": {
     "end_time": "2025-01-26T21:57:23.211172Z",
     "start_time": "2025-01-26T21:57:20.798468Z"
    }
   },
   "cell_type": "code",
   "source": [
    "# Instantiate the feature extractor\n",
    "feature_extractor = HorizontalEdgeCount()\n",
    "\n",
    "category = \"street\"\n",
    "street_path = os.path.join(path, category)\n",
    "\n",
    "# Load images from directories\n",
    "street_images = load_images_from_folder(street_path)\n",
    "other_images = load_other_categories_images(exclude_category=category)\n",
    "\n",
    "print(len(street_images), len(other_images))\n",
    "\n",
    "# Calculate features for both sets of images\n",
    "street_features = [feature_extractor.calculate(img) for img in street_images]\n",
    "other_features = [feature_extractor.calculate(img) for img in other_images]\n",
    "\n",
    "t_stat, p_value_ttest = ttest_ind(street_features, other_features, equal_var=False)\n",
    "ks_stat, p_value_ks = ks_2samp(street_features, other_features)\n",
    "u_stat, p_value_u = mannwhitneyu(street_features, other_features, alternative='two-sided')\n",
    "\n",
    "# Collect test results\n",
    "test_results = [\n",
    "    (\"T-тест\", t_stat, p_value_ttest),\n",
    "    (\"KS тест\", ks_stat, p_value_ks),\n",
    "    (\"Критерий Манна-Уитни U\", u_stat, p_value_u)\n",
    "]\n",
    "\n",
    "# Print results with conclusion\n",
    "print_test_results(\n",
    "    test_results,\n",
    "    success_message=\"Улицы имеют больше горизонтальных линий.\",\n",
    "    failure_message=\"Значимой разницы не обнаружено.\"\n",
    ")"
   ],
   "id": "3942517da9b75b19",
   "outputs": [
    {
     "name": "stdout",
     "output_type": "stream",
     "text": [
      "501 1537\n",
      "T-тест:\n",
      "Statistic: -5.536182917334385\n",
      "P-value: 3.678891287487302e-08\n",
      "\n",
      "KS тест:\n",
      "Statistic: 0.2585460179186195\n",
      "P-value: 1.025658259575512e-22\n",
      "\n",
      "Критерий Манна-Уитни U:\n",
      "Statistic: 320440.0\n",
      "P-value: 1.645966622884843e-08\n",
      "\n",
      "Гипотеза подтверждена: Улицы имеют больше горизонтальных линий.\n"
     ]
    }
   ],
   "execution_count": 25
  },
  {
   "metadata": {},
   "cell_type": "markdown",
   "source": [
    "### Гипотеза 2: Ледники имеют больше вертикальных линий по сравнению с другими категориями.\n",
    "\n",
    "Предполагается, что изображения ледников будут содержать больше вертикальных краев из-за текстур льда, трещин и вертикальных элементов пейзажа, чем изображения других категорий.\n",
    "\n",
    "### Способы проверки:\n",
    "\n",
    "1. **T-тест**:\n",
    "   Сравнение средних значений количества вертикальных краев между категориями \"glacier\" и другими категориями. Если p-value < 0.05, то гипотеза подтверждается.\n",
    "\n",
    "2. **KS тест (Колмогорова-Смирнова)**:\n",
    "   Сравнение распределений количества вертикальных краев для оценки различий в формах распределений данных.\n",
    "\n",
    "3. **Тест Манна-Уитни U**:\n",
    "   Проверка медианных значений количества вертикальных краев для категорий, где данные могут иметь ненормальное распределение."
   ],
   "id": "6b7519a153c88078"
  },
  {
   "metadata": {
    "ExecuteTime": {
     "end_time": "2025-01-26T21:57:25.489805Z",
     "start_time": "2025-01-26T21:57:23.226827Z"
    }
   },
   "cell_type": "code",
   "source": [
    "# Instantiate the feature extractor\n",
    "feature_extractor = VerticalEdgeCount()\n",
    "\n",
    "category = \"glacier\"\n",
    "glacier_path = os.path.join(path, category)\n",
    "\n",
    "# Load images from directories\n",
    "glacier_images = load_images_from_folder(glacier_path)\n",
    "other_images = load_other_categories_images(exclude_category=category)\n",
    "\n",
    "print(len(glacier_images), len(other_images))\n",
    "\n",
    "# Calculate features for both sets of images\n",
    "glacier_features = [feature_extractor.calculate(img) for img in glacier_images]\n",
    "other_features = [feature_extractor.calculate(img) for img in other_images]\n",
    "\n",
    "t_stat, p_value_ttest = ttest_ind(glacier_features, other_features, equal_var=False)\n",
    "ks_stat, p_value_ks = ks_2samp(glacier_features, other_features)\n",
    "u_stat, p_value_u = mannwhitneyu(glacier_features, other_features, alternative='two-sided')\n",
    "\n",
    "# Collect test results\n",
    "test_results = [\n",
    "    (\"T-тест\", t_stat, p_value_ttest),\n",
    "    (\"KS тест\", ks_stat, p_value_ks),\n",
    "    (\"Критерий Манна-Уитни U\", u_stat, p_value_u)\n",
    "]\n",
    "\n",
    "# Print results with conclusion\n",
    "print_test_results(\n",
    "    test_results,\n",
    "    success_message=\"Ледники имеют больше вертикальных линий.\",\n",
    "    failure_message=\"Значимой разницы не обнаружено.\"\n",
    ")\n"
   ],
   "id": "136fcf695aa4f0a6",
   "outputs": [
    {
     "name": "stdout",
     "output_type": "stream",
     "text": [
      "553 1485\n",
      "T-тест:\n",
      "Statistic: -7.623930677445486\n",
      "P-value: 4.7065651314369605e-14\n",
      "\n",
      "KS тест:\n",
      "Statistic: 0.2293361584500825\n",
      "P-value: 4.418618330372809e-19\n",
      "\n",
      "Критерий Манна-Уитни U:\n",
      "Statistic: 323342.5\n",
      "P-value: 1.501613301896674e-13\n",
      "\n",
      "Гипотеза подтверждена: Ледники имеют больше вертикальных линий.\n"
     ]
    }
   ],
   "execution_count": 26
  },
  {
   "metadata": {},
   "cell_type": "markdown",
   "source": [
    "### Гипотеза 3: Изображения улиц содержат больше углов (corner points), чем другие категории.\n",
    "\n",
    "Предполагается, что изображения улиц будут содержать больше угловых точек из-за сложной структуры зданий, дорожной разметки и других элементов городской среды.\n",
    "\n",
    "### Способы проверки:\n",
    "\n",
    "1. **T-тест**:\n",
    "   Сравнение средних значений количества угловых точек между изображениями улиц и других категорий. p-value < 0.05 подтвердит гипотезу.\n",
    "\n",
    "2. **KS тест (Колмогорова-Смирнова)**:\n",
    "   Анализ различий в распределении количества угловых точек между категориями.\n",
    "\n",
    "3. **Тест Манна-Уитни U**:\n",
    "   Проверка различий в медианных значениях между категориями, чтобы оценить статистическую значимость различий."
   ],
   "id": "fc49d8b123ad262"
  },
  {
   "metadata": {
    "ExecuteTime": {
     "end_time": "2025-01-26T21:57:27.280979Z",
     "start_time": "2025-01-26T21:57:25.507970Z"
    }
   },
   "cell_type": "code",
   "source": [
    "# Instantiate the feature extractor\n",
    "feature_extractor = CornerCount()\n",
    "\n",
    "category = \"street\"\n",
    "street_path = os.path.join(path, category)\n",
    "\n",
    "# Load images from directories\n",
    "street_images = load_images_from_folder(street_path)\n",
    "other_images = load_other_categories_images(exclude_category=category)\n",
    "\n",
    "print(len(street_images), len(other_images))\n",
    "\n",
    "# Calculate features for both sets of images\n",
    "street_features = [feature_extractor.calculate(img) for img in street_images]\n",
    "other_features = [feature_extractor.calculate(img) for img in other_images]\n",
    "\n",
    "t_stat, p_value_ttest = ttest_ind(street_features, other_features, equal_var=False)\n",
    "ks_stat, p_value_ks = ks_2samp(street_features, other_features)\n",
    "u_stat, p_value_u = mannwhitneyu(street_features, other_features, alternative='two-sided')\n",
    "\n",
    "# Collect test results\n",
    "test_results = [\n",
    "    (\"T-тест\", t_stat, p_value_ttest),\n",
    "    (\"KS тест\", ks_stat, p_value_ks),\n",
    "    (\"Критерий Манна-Уитни U\", u_stat, p_value_u)\n",
    "]\n",
    "\n",
    "# Print results with conclusion\n",
    "print_test_results(\n",
    "    test_results,\n",
    "    success_message=\"Улицы содержат больше углов.\",\n",
    "    failure_message=\"Значимой разницы не обнаружено.\"\n",
    ")\n"
   ],
   "id": "ca5715d25c87ad7c",
   "outputs": [
    {
     "name": "stdout",
     "output_type": "stream",
     "text": [
      "501 1537\n",
      "T-тест:\n",
      "Statistic: -5.938097772150784\n",
      "P-value: 3.5466648252177397e-09\n",
      "\n",
      "KS тест:\n",
      "Statistic: 0.1637557675799994\n",
      "P-value: 2.539754721124395e-09\n",
      "\n",
      "Критерий Манна-Уитни U:\n",
      "Statistic: 377413.0\n",
      "P-value: 0.5061446015555684\n",
      "\n",
      "Гипотеза не подтверждена: Значимой разницы не обнаружено.\n"
     ]
    }
   ],
   "execution_count": 27
  },
  {
   "metadata": {},
   "cell_type": "markdown",
   "source": [
    "### Гипотеза 4: Леса содержат больше зелёных пикселей по сравнению с другими категориями.\n",
    "\n",
    "В данной гипотезе предполагается, что изображения лесов будут иметь значительно больше пикселей зелёного цвета, что связано с наличием деревьев, травы и других природных объектов в данной категории.\n",
    "\n",
    "### Способы проверки:\n",
    "\n",
    "1. **T-тест**:\n",
    "   Сравнение средних значений доли зелёных пикселей между изображениями категории \"forest\" и других категорий. Если p-value < 0.05, то гипотеза подтверждается.\n",
    "\n",
    "2. **KS тест (Колмогорова-Смирнова)**:\n",
    "   Анализ различий в распределении доли зелёных пикселей между категориями.\n",
    "\n",
    "3. **Тест Манна-Уитни U**:\n",
    "   Проверка медианных значений доли зелёных пикселей между категориями, чтобы оценить статистическую значимость различий."
   ],
   "id": "b333c5f9ed6605c9"
  },
  {
   "metadata": {
    "ExecuteTime": {
     "end_time": "2025-01-26T21:57:28.379981Z",
     "start_time": "2025-01-26T21:57:27.299228Z"
    }
   },
   "cell_type": "code",
   "source": [
    "# Instantiate the feature extractor\n",
    "feature_extractor = GreenPixelPercentage()\n",
    "\n",
    "category = \"forest\"\n",
    "forest_path = os.path.join(path, category)\n",
    "\n",
    "# Load images from directories\n",
    "forest_images = load_images_from_folder(forest_path)\n",
    "other_images = load_other_categories_images(exclude_category=category)\n",
    "\n",
    "print(len(forest_images), len(other_images))\n",
    "\n",
    "# Calculate features for both sets of images\n",
    "forest_features = [feature_extractor.calculate(img) for img in forest_images]\n",
    "other_features = [feature_extractor.calculate(img) for img in other_images]\n",
    "\n",
    "t_stat, p_value_ttest = ttest_ind(forest_features, other_features, equal_var=False)\n",
    "ks_stat, p_value_ks = ks_2samp(forest_features, other_features)\n",
    "u_stat, p_value_u = mannwhitneyu(forest_features, other_features, alternative='two-sided')\n",
    "\n",
    "# Collect test results\n",
    "test_results = [\n",
    "    (\"T-тест\", t_stat, p_value_ttest),\n",
    "    (\"KS тест\", ks_stat, p_value_ks),\n",
    "    (\"Критерий Манна-Уитни U\", u_stat, p_value_u)\n",
    "]\n",
    "\n",
    "# Print results with conclusion\n",
    "print_test_results(\n",
    "    test_results,\n",
    "    success_message=\"Леса содержат больше зелёных пикселей.\",\n",
    "    failure_message=\"Значимой разницы не обнаружено.\"\n",
    ")\n"
   ],
   "id": "d4090e8e370cb098",
   "outputs": [
    {
     "name": "stdout",
     "output_type": "stream",
     "text": [
      "474 1564\n",
      "T-тест:\n",
      "Statistic: 24.33806175133911\n",
      "P-value: 1.6210098356214556e-88\n",
      "\n",
      "KS тест:\n",
      "Statistic: 0.572795601454671\n",
      "P-value: 1.4868903938523597e-111\n",
      "\n",
      "Критерий Манна-Уитни U:\n",
      "Statistic: 611598.5\n",
      "P-value: 2.682172015791628e-102\n",
      "\n",
      "Гипотеза подтверждена: Леса содержат больше зелёных пикселей.\n"
     ]
    }
   ],
   "execution_count": 28
  },
  {
   "metadata": {},
   "cell_type": "markdown",
   "source": [
    "### Гипотеза 5: Моря содержат больше синих пикселей по сравнению с другими категориями.\n",
    "\n",
    "Предполагается, что изображения морей будут иметь значительно больше синих пикселей из-за воды и отражения неба, которые являются ключевыми элементами морских пейзажей.\n",
    "\n",
    "### Способы проверки:\n",
    "\n",
    "1. **T-тест**:\n",
    "   Сравнение средних значений доли синих пикселей между изображениями категории \"sea\" и других категорий. p-value < 0.05 подтвердит гипотезу.\n",
    "\n",
    "2. **KS тест (Колмогорова-Смирнова)**:\n",
    "   Сравнение распределений доли синих пикселей между категориями.\n",
    "\n",
    "3. **Тест Манна-Уитни U**:\n",
    "   Проверка различий в медианных значениях доли синих пикселей между категориями."
   ],
   "id": "620b5e8d87b32ce7"
  },
  {
   "metadata": {
    "ExecuteTime": {
     "end_time": "2025-01-26T21:57:29.459179Z",
     "start_time": "2025-01-26T21:57:28.414464Z"
    }
   },
   "cell_type": "code",
   "source": [
    "# Instantiate the feature extractor\n",
    "feature_extractor = BluePixelPercentage()\n",
    "\n",
    "category = \"sea\"\n",
    "sea_path = os.path.join(path, category)\n",
    "\n",
    "# Load images from directories\n",
    "sea_images = load_images_from_folder(sea_path)\n",
    "other_images = load_other_categories_images(exclude_category=category)\n",
    "\n",
    "print(len(sea_images), len(other_images))\n",
    "\n",
    "# Calculate features for both sets of images\n",
    "sea_features = [feature_extractor.calculate(img) for img in sea_images]\n",
    "other_features = [feature_extractor.calculate(img) for img in other_images]\n",
    "\n",
    "t_stat, p_value_ttest = ttest_ind(sea_features, other_features, equal_var=False)\n",
    "ks_stat, p_value_ks = ks_2samp(sea_features, other_features)\n",
    "u_stat, p_value_u = mannwhitneyu(sea_features, other_features, alternative='two-sided')\n",
    "\n",
    "# Collect test results\n",
    "test_results = [\n",
    "    (\"T-тест\", t_stat, p_value_ttest),\n",
    "    (\"KS тест\", ks_stat, p_value_ks),\n",
    "    (\"Критерий Манна-Уитни U\", u_stat, p_value_u)\n",
    "]\n",
    "\n",
    "# Print results with conclusion\n",
    "print_test_results(\n",
    "    test_results,\n",
    "    success_message=\"Моря содержат больше синих пикселей.\",\n",
    "    failure_message=\"Значимой разницы не обнаружено.\"\n",
    ")\n"
   ],
   "id": "9fb1d63842584e45",
   "outputs": [
    {
     "name": "stdout",
     "output_type": "stream",
     "text": [
      "510 1528\n",
      "T-тест:\n",
      "Statistic: 1.1211738733521273\n",
      "P-value: 0.26250286752501034\n",
      "\n",
      "KS тест:\n",
      "Statistic: 0.09975618519659173\n",
      "P-value: 0.0009062921883123432\n",
      "\n",
      "Критерий Манна-Уитни U:\n",
      "Statistic: 415259.5\n",
      "P-value: 0.025898217622063464\n",
      "\n",
      "Гипотеза не подтверждена: Значимой разницы не обнаружено.\n"
     ]
    }
   ],
   "execution_count": 29
  },
  {
   "metadata": {},
   "cell_type": "markdown",
   "source": [
    "### Гипотеза 6: Ледники имеют более высокий контраст по сравнению с другими категориями.\n",
    "\n",
    "Предполагается, что изображения ледников будут иметь более высокий уровень контраста из-за ярких белых областей снега и тёмных теней, создаваемых текстурой льда и окружающим ландшафтом.\n",
    "\n",
    "### Способы проверки:\n",
    "\n",
    "1. **T-тест**:\n",
    "   Сравнение средних значений уровня контраста между изображениями категории \"glacier\" и других категорий. p-value < 0.05 подтверждает гипотезу.\n",
    "\n",
    "2. **KS тест (Колмогорова-Смирнова)**:\n",
    "   Анализ различий в распределении уровня контраста между категориями.\n",
    "\n",
    "3. **Тест Манна-Уитни U**:\n",
    "   Проверка медианных значений уровня контраста для категорий, чтобы выявить статистически значимые различия."
   ],
   "id": "a44232225f51aba1"
  },
  {
   "metadata": {
    "ExecuteTime": {
     "end_time": "2025-01-26T21:57:30.759460Z",
     "start_time": "2025-01-26T21:57:29.479867Z"
    }
   },
   "cell_type": "code",
   "source": [
    "# Instantiate the feature extractor\n",
    "feature_extractor = ContrastMeasure()\n",
    "\n",
    "category = \"glacier\"\n",
    "glacier_path = os.path.join(path, category)\n",
    "\n",
    "# Load images from directories\n",
    "glacier_images = load_images_from_folder(glacier_path)\n",
    "other_images = load_other_categories_images(exclude_category=category)\n",
    "\n",
    "print(len(glacier_images), len(other_images))\n",
    "\n",
    "# Calculate features for both sets of images\n",
    "glacier_features = [feature_extractor.calculate(img) for img in glacier_images]\n",
    "other_features = [feature_extractor.calculate(img) for img in other_images]\n",
    "\n",
    "t_stat, p_value_ttest = ttest_ind(glacier_features, other_features, equal_var=False)\n",
    "ks_stat, p_value_ks = ks_2samp(glacier_features, other_features)\n",
    "u_stat, p_value_u = mannwhitneyu(glacier_features, other_features, alternative='two-sided')\n",
    "\n",
    "# Collect test results\n",
    "test_results = [\n",
    "    (\"T-тест\", t_stat, p_value_ttest),\n",
    "    (\"KS тест\", ks_stat, p_value_ks),\n",
    "    (\"Критерий Манна-Уитни U\", u_stat, p_value_u)\n",
    "]\n",
    "\n",
    "# Print results with conclusion\n",
    "print_test_results(\n",
    "    test_results,\n",
    "    success_message=\"Ледники имеют более высокий контраст.\",\n",
    "    failure_message=\"Значимой разницы не обнаружено.\"\n",
    ")\n"
   ],
   "id": "89e13e8cec15a9f7",
   "outputs": [
    {
     "name": "stdout",
     "output_type": "stream",
     "text": [
      "553 1485\n",
      "T-тест:\n",
      "Statistic: -13.990960367010493\n",
      "P-value: 3.1520472056294343e-42\n",
      "\n",
      "KS тест:\n",
      "Statistic: 0.2924555987847127\n",
      "P-value: 6.385535273860686e-31\n",
      "\n",
      "Критерий Манна-Уитни U:\n",
      "Statistic: 278524.0\n",
      "P-value: 5.042885232479557e-29\n",
      "\n",
      "Гипотеза подтверждена: Ледники имеют более высокий контраст.\n"
     ]
    }
   ],
   "execution_count": 30
  },
  {
   "metadata": {},
   "cell_type": "markdown",
   "source": [
    "### Гипотеза 7: Изображения улиц имеют более сложную текстуру по сравнению с другими категориями.\n",
    "\n",
    "Предполагается, что изображения улиц характеризуются более высокой сложностью текстуры из-за присутствия множества различных объектов, таких как здания, дороги и автомобили, создающих разнообразные текстурные элементы.\n",
    "\n",
    "### Способы проверки:\n",
    "\n",
    "1. **T-тест**:\n",
    "   Сравнение средних значений сложности текстуры между изображениями категории \"street\" и других категорий. Если p-value < 0.05, гипотеза подтверждается.\n",
    "\n",
    "2. **KS тест (Колмогорова-Смирнова)**:\n",
    "   Проверка различий в распределении значений сложности текстуры между категориями.\n",
    "\n",
    "3. **Тест Манна-Уитни U**:\n",
    "   Анализ различий в медианных значениях сложности текстуры между категориями."
   ],
   "id": "c3e103b4ad7968fd"
  },
  {
   "metadata": {
    "ExecuteTime": {
     "end_time": "2025-01-26T21:57:32.613816Z",
     "start_time": "2025-01-26T21:57:30.762142Z"
    }
   },
   "cell_type": "code",
   "source": [
    "# Instantiate the feature extractor\n",
    "feature_extractor = TextureComplexity()\n",
    "\n",
    "category = \"street\"\n",
    "street_path = os.path.join(path, category)\n",
    "\n",
    "# Load images from directories\n",
    "street_images = load_images_from_folder(street_path)\n",
    "other_images = load_other_categories_images(exclude_category=category)\n",
    "\n",
    "print(len(street_images), len(other_images))\n",
    "\n",
    "# Calculate features for both sets of images\n",
    "street_features = [feature_extractor.calculate(img) for img in street_images]\n",
    "other_features = [feature_extractor.calculate(img) for img in other_images]\n",
    "\n",
    "t_stat, p_value_ttest = ttest_ind(street_features, other_features, equal_var=False)\n",
    "ks_stat, p_value_ks = ks_2samp(street_features, other_features)\n",
    "u_stat, p_value_u = mannwhitneyu(street_features, other_features, alternative='two-sided')\n",
    "\n",
    "# Collect test results\n",
    "test_results = [\n",
    "    (\"T-тест\", t_stat, p_value_ttest),\n",
    "    (\"KS тест\", ks_stat, p_value_ks),\n",
    "    (\"Критерий Манна-Уитни U\", u_stat, p_value_u)\n",
    "]\n",
    "\n",
    "# Print results with conclusion\n",
    "print_test_results(\n",
    "    test_results,\n",
    "    success_message=\"Улицы имеют более сложную текстуру.\",\n",
    "    failure_message=\"Значимой разницы не обнаружено.\"\n",
    ")\n"
   ],
   "id": "e9b8f3166a8ab0bf",
   "outputs": [
    {
     "name": "stdout",
     "output_type": "stream",
     "text": [
      "501 1537\n",
      "T-тест:\n",
      "Statistic: 0.7054777037397897\n",
      "P-value: 0.48062661242928806\n",
      "\n",
      "KS тест:\n",
      "Statistic: 0.21052365016226493\n",
      "P-value: 3.726031893547964e-15\n",
      "\n",
      "Критерий Манна-Уитни U:\n",
      "Statistic: 386149.5\n",
      "P-value: 0.9212717963343034\n",
      "\n",
      "Гипотеза не подтверждена: Значимой разницы не обнаружено.\n"
     ]
    }
   ],
   "execution_count": 31
  },
  {
   "metadata": {},
   "cell_type": "markdown",
   "source": [
    "### Гипотеза 8: Моря содержат большее соотношение пикселей, относящихся к небу, по сравнению с другими категориями.\n",
    "\n",
    "Предполагается, что изображения категории \"sea\" содержат больше пикселей, относящихся к небу, из-за открытого горизонта и отражения неба в воде.\n",
    "\n",
    "### Способы проверки:\n",
    "\n",
    "1. **T-тест**:\n",
    "   Сравнение средних значений отношения пикселей неба между изображениями категории \"sea\" и других категорий. p-value < 0.05 подтверждает гипотезу.\n",
    "\n",
    "2. **KS тест (Колмогорова-Смирнова)**:\n",
    "   Проверка распределений соотношения пикселей неба между категориями.\n",
    "\n",
    "3. **Тест Манна-Уитни U**:\n",
    "   Анализ различий медианных значений соотношения пикселей неба между категориями.\n"
   ],
   "id": "ec2d3d4b1e0fe2b6"
  },
  {
   "metadata": {
    "ExecuteTime": {
     "end_time": "2025-01-26T21:57:33.763586Z",
     "start_time": "2025-01-26T21:57:32.632195Z"
    }
   },
   "cell_type": "code",
   "source": [
    "# Instantiate the feature extractor\n",
    "feature_extractor = SkyPixelRatio()\n",
    "\n",
    "category = \"sea\"\n",
    "sea_path = os.path.join(path, category)\n",
    "\n",
    "# Load images from directories\n",
    "sea_images = load_images_from_folder(sea_path)\n",
    "other_images = load_other_categories_images(exclude_category=category)\n",
    "\n",
    "print(len(sea_images), len(other_images))\n",
    "\n",
    "# Calculate features for both sets of images\n",
    "sea_features = [feature_extractor.calculate(img) for img in sea_images]\n",
    "other_features = [feature_extractor.calculate(img) for img in other_images]\n",
    "\n",
    "t_stat, p_value_ttest = ttest_ind(sea_features, other_features, equal_var=False)\n",
    "ks_stat, p_value_ks = ks_2samp(sea_features, other_features)\n",
    "u_stat, p_value_u = mannwhitneyu(sea_features, other_features, alternative='two-sided')\n",
    "\n",
    "# Collect test results\n",
    "test_results = [\n",
    "    (\"T-тест\", t_stat, p_value_ttest),\n",
    "    (\"KS тест\", ks_stat, p_value_ks),\n",
    "    (\"Критерий Манна-Уитни U\", u_stat, p_value_u)\n",
    "]\n",
    "\n",
    "# Print results with conclusion\n",
    "print_test_results(\n",
    "    test_results,\n",
    "    success_message=\"Моря содержат большее соотношение пикселей неба.\",\n",
    "    failure_message=\"Значимой разницы не обнаружено.\"\n",
    ")\n"
   ],
   "id": "8c0f73233491bae1",
   "outputs": [
    {
     "name": "stdout",
     "output_type": "stream",
     "text": [
      "510 1528\n",
      "T-тест:\n",
      "Statistic: -0.4165409085755174\n",
      "P-value: 0.6771190223957982\n",
      "\n",
      "KS тест:\n",
      "Statistic: 0.09969458987783596\n",
      "P-value: 0.0009095121167548601\n",
      "\n",
      "Критерий Манна-Уитни U:\n",
      "Statistic: 357051.0\n",
      "P-value: 0.004548822876826889\n",
      "\n",
      "Гипотеза не подтверждена: Значимой разницы не обнаружено.\n"
     ]
    }
   ],
   "execution_count": 32
  },
  {
   "metadata": {},
   "cell_type": "markdown",
   "source": [
    "### Гипотеза 9: Ледники чаще содержат тени по сравнению с другими категориями.\n",
    "\n",
    "Предполагается, что изображения категории \"glacier\" имеют большее присутствие теней, что связано с рельефной текстурой льда и снегом, создающим контрастные области.\n",
    "\n",
    "### Способы проверки:\n",
    "\n",
    "1. **T-тест**:\n",
    "   Сравнение средних значений присутствия теней между изображениями категории \"glacier\" и других категорий. Если p-value < 0.05, гипотеза подтверждается.\n",
    "\n",
    "2. **KS тест (Колмогорова-Смирнова)**:\n",
    "   Проверка распределений значений присутствия теней между категориями.\n",
    "\n",
    "3. **Тест Манна-Уитни U**:\n",
    "   Анализ различий медианных значений присутствия теней между категориями."
   ],
   "id": "99a4c1535e1b94b3"
  },
  {
   "metadata": {
    "ExecuteTime": {
     "end_time": "2025-01-26T21:57:34.685797Z",
     "start_time": "2025-01-26T21:57:33.777069Z"
    }
   },
   "cell_type": "code",
   "source": [
    "# Instantiate the feature extractor\n",
    "feature_extractor = ShadowPresence()\n",
    "\n",
    "category = \"glacier\"\n",
    "glacier_path = os.path.join(path, category)\n",
    "\n",
    "# Load images from directories\n",
    "glacier_images = load_images_from_folder(glacier_path)\n",
    "other_images = load_other_categories_images(exclude_category=category)\n",
    "\n",
    "print(len(glacier_images), len(other_images))\n",
    "\n",
    "# Calculate features for both sets of images\n",
    "glacier_features = [feature_extractor.calculate(img) for img in glacier_images]\n",
    "other_features = [feature_extractor.calculate(img) for img in other_images]\n",
    "\n",
    "t_stat, p_value_ttest = ttest_ind(glacier_features, other_features, equal_var=False)\n",
    "ks_stat, p_value_ks = ks_2samp(glacier_features, other_features)\n",
    "u_stat, p_value_u = mannwhitneyu(glacier_features, other_features, alternative='two-sided')\n",
    "\n",
    "# Collect test results\n",
    "test_results = [\n",
    "    (\"T-тест\", t_stat, p_value_ttest),\n",
    "    (\"KS тест\", ks_stat, p_value_ks),\n",
    "    (\"Критерий Манна-Уитни U\", u_stat, p_value_u)\n",
    "]\n",
    "\n",
    "# Print results with conclusion\n",
    "print_test_results(\n",
    "    test_results,\n",
    "    success_message=\"Ледники чаще содержат тени.\",\n",
    "    failure_message=\"Значимой разницы не обнаружено.\"\n",
    ")\n"
   ],
   "id": "7ece8a9879180111",
   "outputs": [
    {
     "name": "stdout",
     "output_type": "stream",
     "text": [
      "553 1485\n",
      "T-тест:\n",
      "Statistic: -17.46551188943875\n",
      "P-value: 1.2931213830769387e-62\n",
      "\n",
      "KS тест:\n",
      "Statistic: 0.30897400770818495\n",
      "P-value: 1.6037901870089859e-34\n",
      "\n",
      "Критерий Манна-Уитни U:\n",
      "Statistic: 239538.0\n",
      "P-value: 1.5849262782772908e-47\n",
      "\n",
      "Гипотеза подтверждена: Ледники чаще содержат тени.\n"
     ]
    }
   ],
   "execution_count": 33
  },
  {
   "metadata": {},
   "cell_type": "markdown",
   "source": [
    "### Гипотеза 10: Леса характеризуются более высокой симметрией по сравнению с другими категориями.\n",
    "\n",
    "Предполагается, что изображения категории \"forest\" имеют более высокую симметрию из-за структур деревьев и общего распределения объектов в природе.\n",
    "\n",
    "### Способы проверки:\n",
    "\n",
    "1. **T-тест**:\n",
    "   Сравнение средних значений меры симметрии между изображениями категории \"forest\" и других категорий. Если p-value < 0.05, гипотеза подтверждается.\n",
    "\n",
    "2. **KS тест (Колмогорова-Смирнова)**:\n",
    "   Проверка различий в распределении меры симметрии между категориями.\n",
    "\n",
    "3. **Тест Манна-Уитни U**:\n",
    "   Анализ различий медианных значений меры симметрии между категориями.\n"
   ],
   "id": "5a15ab43e812e022"
  },
  {
   "metadata": {
    "ExecuteTime": {
     "end_time": "2025-01-26T21:57:35.715220Z",
     "start_time": "2025-01-26T21:57:34.716370Z"
    }
   },
   "cell_type": "code",
   "source": [
    "# Instantiate the feature extractor\n",
    "feature_extractor = SymmetryMeasure()\n",
    "\n",
    "category = \"forest\"\n",
    "forest_path = os.path.join(path, category)\n",
    "\n",
    "# Load images from directories\n",
    "forest_images = load_images_from_folder(forest_path)\n",
    "other_images = load_other_categories_images(exclude_category=category)\n",
    "\n",
    "print(len(forest_images), len(other_images))\n",
    "\n",
    "# Calculate features for both sets of images\n",
    "forest_features = [feature_extractor.calculate(img) for img in forest_images]\n",
    "other_features = [feature_extractor.calculate(img) for img in other_images]\n",
    "\n",
    "t_stat, p_value_ttest = ttest_ind(forest_features, other_features, equal_var=False)\n",
    "ks_stat, p_value_ks = ks_2samp(forest_features, other_features)\n",
    "u_stat, p_value_u = mannwhitneyu(forest_features, other_features, alternative='two-sided')\n",
    "\n",
    "# Collect test results\n",
    "test_results = [\n",
    "    (\"T-тест\", t_stat, p_value_ttest),\n",
    "    (\"KS тест\", ks_stat, p_value_ks),\n",
    "    (\"Критерий Манна-Уитни U\", u_stat, p_value_u)\n",
    "]\n",
    "\n",
    "# Print results with conclusion\n",
    "print_test_results(\n",
    "    test_results,\n",
    "    success_message=\"Леса характеризуются более высокой симметрией.\",\n",
    "    failure_message=\"Значимой разницы не обнаружено.\"\n",
    ")\n"
   ],
   "id": "f970c8c3b5b4f09c",
   "outputs": [
    {
     "name": "stdout",
     "output_type": "stream",
     "text": [
      "474 1564\n",
      "T-тест:\n",
      "Statistic: -16.18171082533654\n",
      "P-value: 5.2034930221251085e-49\n",
      "\n",
      "KS тест:\n",
      "Statistic: 0.5449701619778347\n",
      "P-value: 2.812937505355035e-100\n",
      "\n",
      "Критерий Манна-Уитни U:\n",
      "Statistic: 117518.0\n",
      "P-value: 1.1871953637884321e-112\n",
      "\n",
      "Гипотеза подтверждена: Леса характеризуются более высокой симметрией.\n"
     ]
    }
   ],
   "execution_count": 34
  },
  {
   "metadata": {},
   "cell_type": "markdown",
   "source": [
    "### Гипотеза 11: Улицы имеют более высокую резкость по сравнению с другими категориями.\n",
    "\n",
    "Предполагается, что изображения категории \"street\" характеризуются более высокой резкостью из-за наличия деталей, таких как здания, дороги и другие элементы городской среды.\n",
    "\n",
    "### Способы проверки:\n",
    "\n",
    "1. **T-тест**:\n",
    "   Сравнение средних значений меры резкости между изображениями категории \"street\" и других категорий. Если p-value < 0.05, гипотеза подтверждается.\n",
    "\n",
    "2. **KS тест (Колмогорова-Смирнова)**:\n",
    "   Проверка различий в распределении меры резкости между категориями.\n",
    "\n",
    "3. **Тест Манна-Уитни U**:\n",
    "   Анализ различий медианных значений меры резкости между категориями."
   ],
   "id": "f79f2421ddc01e54"
  },
  {
   "metadata": {
    "ExecuteTime": {
     "end_time": "2025-01-26T21:57:36.910214Z",
     "start_time": "2025-01-26T21:57:35.718383Z"
    }
   },
   "cell_type": "code",
   "source": [
    "# Instantiate the feature extractor\n",
    "feature_extractor = SharpnessMeasure()\n",
    "\n",
    "category = \"street\"\n",
    "street_path = os.path.join(path, category)\n",
    "\n",
    "# Load images from directories\n",
    "street_images = load_images_from_folder(street_path)\n",
    "other_images = load_other_categories_images(exclude_category=category)\n",
    "\n",
    "print(len(street_images), len(other_images))\n",
    "\n",
    "# Calculate features for both sets of images\n",
    "street_features = [feature_extractor.calculate(img) for img in street_images]\n",
    "other_features = [feature_extractor.calculate(img) for img in other_images]\n",
    "\n",
    "t_stat, p_value_ttest = ttest_ind(street_features, other_features, equal_var=False)\n",
    "ks_stat, p_value_ks = ks_2samp(street_features, other_features)\n",
    "u_stat, p_value_u = mannwhitneyu(street_features, other_features, alternative='two-sided')\n",
    "\n",
    "# Collect test results\n",
    "test_results = [\n",
    "    (\"T-тест\", t_stat, p_value_ttest),\n",
    "    (\"KS тест\", ks_stat, p_value_ks),\n",
    "    (\"Критерий Манна-Уитни U\", u_stat, p_value_u)\n",
    "]\n",
    "\n",
    "# Print results with conclusion\n",
    "print_test_results(\n",
    "    test_results,\n",
    "    success_message=\"Улицы имеют более высокую резкость.\",\n",
    "    failure_message=\"Значимой разницы не обнаружено.\"\n",
    ")\n"
   ],
   "id": "8299e8389fb8d429",
   "outputs": [
    {
     "name": "stdout",
     "output_type": "stream",
     "text": [
      "501 1537\n",
      "T-тест:\n",
      "Statistic: 2.4676286401229155\n",
      "P-value: 0.013726133753605981\n",
      "\n",
      "KS тест:\n",
      "Statistic: 0.24363764338596716\n",
      "P-value: 3.392692186955469e-20\n",
      "\n",
      "Критерий Манна-Уитни U:\n",
      "Statistic: 454814.0\n",
      "P-value: 1.0494922205275562e-09\n",
      "\n",
      "Гипотеза подтверждена: Улицы имеют более высокую резкость.\n"
     ]
    }
   ],
   "execution_count": 35
  },
  {
   "metadata": {},
   "cell_type": "markdown",
   "source": [
    "### Гипотеза 12: Моря имеют более высокую среднюю яркость по сравнению с другими категориями.\n",
    "\n",
    "Предполагается, что изображения категории \"sea\" характеризуются более высокой средней яркостью из-за отражения солнечного света от воды и ясного неба.\n",
    "\n",
    "### Способы проверки:\n",
    "\n",
    "1. **T-тест**:\n",
    "   Сравнение средних значений средней яркости между изображениями категории \"sea\" и других категорий. Если p-value < 0.05, гипотеза подтверждается.\n",
    "\n",
    "2. **KS тест (Колмогорова-Смирнова)**:\n",
    "   Проверка различий в распределении средней яркости между категориями.\n",
    "\n",
    "3. **Тест Манна-Уитни U**:\n",
    "   Анализ различий медианных значений средней яркости между категориями."
   ],
   "id": "3448ce5ea13490c7"
  },
  {
   "metadata": {
    "ExecuteTime": {
     "end_time": "2025-01-26T21:57:37.836361Z",
     "start_time": "2025-01-26T21:57:36.927476Z"
    }
   },
   "cell_type": "code",
   "source": [
    "# Instantiate the feature extractor\n",
    "feature_extractor = AverageBrightness()\n",
    "\n",
    "category = \"sea\"\n",
    "sea_path = os.path.join(path, category)\n",
    "\n",
    "# Load images from directories\n",
    "sea_images = load_images_from_folder(sea_path)\n",
    "other_images = load_other_categories_images(exclude_category=category)\n",
    "\n",
    "print(len(sea_images), len(other_images))\n",
    "\n",
    "# Calculate features for both sets of images\n",
    "sea_features = [feature_extractor.calculate(img) for img in sea_images]\n",
    "other_features = [feature_extractor.calculate(img) for img in other_images]\n",
    "\n",
    "t_stat, p_value_ttest = ttest_ind(sea_features, other_features, equal_var=False)\n",
    "ks_stat, p_value_ks = ks_2samp(sea_features, other_features)\n",
    "u_stat, p_value_u = mannwhitneyu(sea_features, other_features, alternative='two-sided')\n",
    "\n",
    "# Collect test results\n",
    "test_results = [\n",
    "    (\"T-тест\", t_stat, p_value_ttest),\n",
    "    (\"KS тест\", ks_stat, p_value_ks),\n",
    "    (\"Критерий Манна-Уитни U\", u_stat, p_value_u)\n",
    "]\n",
    "\n",
    "# Print results with conclusion\n",
    "print_test_results(\n",
    "    test_results,\n",
    "    success_message=\"Моря имеют более высокую среднюю яркость.\",\n",
    "    failure_message=\"Значимой разницы не обнаружено.\"\n",
    ")\n"
   ],
   "id": "4b4c7ed62e1cea30",
   "outputs": [
    {
     "name": "stdout",
     "output_type": "stream",
     "text": [
      "510 1528\n",
      "T-тест:\n",
      "Statistic: 10.656069550845766\n",
      "P-value: 4.0483503793015046e-25\n",
      "\n",
      "KS тест:\n",
      "Statistic: 0.24509290627245664\n",
      "P-value: 1.2037032921094994e-20\n",
      "\n",
      "Критерий Манна-Уитни U:\n",
      "Statistic: 506783.0\n",
      "P-value: 2.4344668721364218e-24\n",
      "\n",
      "Гипотеза подтверждена: Моря имеют более высокую среднюю яркость.\n"
     ]
    }
   ],
   "execution_count": 36
  },
  {
   "metadata": {},
   "cell_type": "markdown",
   "source": [
    "## Выводы\n",
    "\n",
    "### Подтвержденные гипотезы:\n",
    "- **Гипотеза 1**: Изображения улицы имеют больше горизонтальных линий.\n",
    "- **Гипотеза 2**: Изображения ледников имеют больше вертикальных линий.\n",
    "- **Гипотеза 4**: Изображения леса содержат больше зелёных пикселей.\n",
    "- **Гипотеза 6**: Изображения ледников имеют более высокий контраст.\n",
    "- **Гипотеза 9**: Ледники чаще содержат тени.\n",
    "- **Гипотеза 10**: Леса характеризуются более высокой симметрией.\n",
    "- **Гипотеза 11**: Улицы имеют более высокую резкость.\n",
    "- **Гипотеза 12**: Моря имеют более высокую среднюю яркость.\n",
    "\n",
    "### Опровергнутые гипотезы:\n",
    "- **Гипотеза 3**: Изображения улиц содержат больше углов (corner points), чем другие категории. (Значимой разницы не обнаружено.)\n",
    "- **Гипотеза 5**: Изображения моря содержат больше синих пикселей по сравнению с другими категориями. (Значимой разницы не обнаружено.)\n",
    "- **Гипотеза 7**: Изображения улиц имеют более сложную текстуру по сравнению с другими категориями. (Значимой разницы не обнаружено.)\n",
    "- **Гипотеза 8**: Изображения моря содержат большее соотношение пикселей, относящихся к небу, по сравнению с другими категориями. (Значимой разницы не обнаружено.)"
   ],
   "id": "9900f5fa206bd198"
  }
 ],
 "metadata": {
  "kernelspec": {
   "name": "python3",
   "language": "python",
   "display_name": "Python 3 (ipykernel)"
  }
 },
 "nbformat": 5,
 "nbformat_minor": 9
}
